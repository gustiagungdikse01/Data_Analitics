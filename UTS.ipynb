{
  "nbformat": 4,
  "nbformat_minor": 0,
  "metadata": {
    "colab": {
      "name": "UTS",
      "provenance": [],
      "authorship_tag": "ABX9TyNSMHyaJmSJkx9cLL9+ukzd",
      "include_colab_link": true
    },
    "kernelspec": {
      "name": "python3",
      "display_name": "Python 3"
    },
    "language_info": {
      "name": "python"
    }
  },
  "cells": [
    {
      "cell_type": "markdown",
      "metadata": {
        "id": "view-in-github",
        "colab_type": "text"
      },
      "source": [
        "<a href=\"https://colab.research.google.com/github/gustiagungdikse01/Data_Analitics/blob/gustiagungdikse01-patch-1/UTS.ipynb\" target=\"_parent\"><img src=\"https://colab.research.google.com/assets/colab-badge.svg\" alt=\"Open In Colab\"/></a>"
      ]
    },
    {
      "cell_type": "code",
      "execution_count": 1,
      "metadata": {
        "colab": {
          "base_uri": "https://localhost:8080/"
        },
        "id": "W5CrS5DSSzyL",
        "outputId": "16651868-1f49-4197-aac0-0f9f3ac9a186"
      },
      "outputs": [
        {
          "output_type": "stream",
          "name": "stdout",
          "text": [
            "Mounted at /content/gdrive\n"
          ]
        }
      ],
      "source": [
        "from google.colab import drive\n",
        "drive.mount('/content/gdrive')"
      ]
    },
    {
      "cell_type": "code",
      "source": [
        "import os\n",
        "os.environ['KAGGLE_CONFIG_DIR'] = \"/content/gdrive/My Drive/uts\"\n",
        "# /content/gdrive/My Drive/Kaggle is the path where kaggle.json is present in the Google Drive"
      ],
      "metadata": {
        "id": "7OstcORSunfh"
      },
      "execution_count": 12,
      "outputs": []
    },
    {
      "cell_type": "code",
      "source": [
        "#changing the working directory\n",
        "%cd /content/gdrive/My Drive/uts\n",
        "#Check the present working directory using pwd command"
      ],
      "metadata": {
        "colab": {
          "base_uri": "https://localhost:8080/"
        },
        "id": "osy9_OqOvMom",
        "outputId": "86e2676f-e747-40d4-a512-81afc19298fa"
      },
      "execution_count": 13,
      "outputs": [
        {
          "output_type": "stream",
          "name": "stdout",
          "text": [
            "/content/gdrive/My Drive/uts\n"
          ]
        }
      ]
    },
    {
      "cell_type": "code",
      "source": [
        "import matplotlib.pyplot as plt\n",
        "import seaborn as sns; sns.set()\n",
        "import numpy as np\n",
        "import pandas as pd\n",
        "\n",
        "import warnings\n",
        "warnings.filterwarnings(\"ignore\")"
      ],
      "metadata": {
        "id": "3wBP7AaNvMvZ"
      },
      "execution_count": 6,
      "outputs": []
    },
    {
      "cell_type": "code",
      "source": [
        "from sklearn.datasets import load_iris\n",
        "from sklearn.ensemble import RandomForestClassifier\n",
        "iris = load_iris()\n",
        "rnd_clf = RandomForestClassifier(n_estimators=500, n_jobs=-1, random_state=42)\n",
        "rnd_clf.fit(iris[\"data\"], iris[\"target\"])\n",
        "for name, score in zip(iris[\"feature_names\"], rnd_clf.feature_importances_):\n",
        "    print(name, score)\n",
        "\n",
        "#feature importance : aldigimiz feature'in model uzerine etkisi"
      ],
      "metadata": {
        "colab": {
          "base_uri": "https://localhost:8080/"
        },
        "id": "Yr0dpqcsv2hj",
        "outputId": "3f98118e-2832-4aaf-d8f8-a94d766d372f"
      },
      "execution_count": 7,
      "outputs": [
        {
          "output_type": "stream",
          "name": "stdout",
          "text": [
            "sepal length (cm) 0.11249225099876375\n",
            "sepal width (cm) 0.02311928828251033\n",
            "petal length (cm) 0.4410304643639577\n",
            "petal width (cm) 0.4233579963547682\n"
          ]
        }
      ]
    },
    {
      "cell_type": "code",
      "source": [
        "rnd_clf.feature_importances_"
      ],
      "metadata": {
        "colab": {
          "base_uri": "https://localhost:8080/"
        },
        "id": "PjplPVgKyadb",
        "outputId": "964098c6-2f64-4833-de02-ce1e2338cfa8"
      },
      "execution_count": 8,
      "outputs": [
        {
          "output_type": "execute_result",
          "data": {
            "text/plain": [
              "array([0.11249225, 0.02311929, 0.44103046, 0.423358  ])"
            ]
          },
          "metadata": {},
          "execution_count": 8
        }
      ]
    },
    {
      "cell_type": "code",
      "source": [
        "import numpy as np\n",
        "import pandas as pd\n",
        "from sklearn.model_selection import train_test_split\n",
        "from sklearn.ensemble import RandomForestRegressor\n",
        "from sklearn.metrics import r2_score,mean_squared_error\n",
        "import seaborn as sns"
      ],
      "metadata": {
        "id": "GR12BDqAy9AO"
      },
      "execution_count": 9,
      "outputs": []
    },
    {
      "cell_type": "code",
      "source": [
        "data_df = pd.read_csv('Random-Forest-Regression-Data.csv')\n",
        "data_df.head()"
      ],
      "metadata": {
        "colab": {
          "base_uri": "https://localhost:8080/",
          "height": 206
        },
        "id": "k4TaMhkWzB7N",
        "outputId": "ee0833bc-3d77-4293-9cd1-3ccd0aa72ef9"
      },
      "execution_count": 17,
      "outputs": [
        {
          "output_type": "execute_result",
          "data": {
            "text/plain": [
              "            x           y\n",
              "0   59.000000  152.553428\n",
              "1   88.696970  158.420441\n",
              "2   87.443939  154.189316\n",
              "3  110.090909  161.136969\n",
              "4  126.787879  158.819572"
            ],
            "text/html": [
              "\n",
              "  <div id=\"df-95136f93-ba4b-48e7-9858-f7a5df80a0b8\">\n",
              "    <div class=\"colab-df-container\">\n",
              "      <div>\n",
              "<style scoped>\n",
              "    .dataframe tbody tr th:only-of-type {\n",
              "        vertical-align: middle;\n",
              "    }\n",
              "\n",
              "    .dataframe tbody tr th {\n",
              "        vertical-align: top;\n",
              "    }\n",
              "\n",
              "    .dataframe thead th {\n",
              "        text-align: right;\n",
              "    }\n",
              "</style>\n",
              "<table border=\"1\" class=\"dataframe\">\n",
              "  <thead>\n",
              "    <tr style=\"text-align: right;\">\n",
              "      <th></th>\n",
              "      <th>x</th>\n",
              "      <th>y</th>\n",
              "    </tr>\n",
              "  </thead>\n",
              "  <tbody>\n",
              "    <tr>\n",
              "      <th>0</th>\n",
              "      <td>59.000000</td>\n",
              "      <td>152.553428</td>\n",
              "    </tr>\n",
              "    <tr>\n",
              "      <th>1</th>\n",
              "      <td>88.696970</td>\n",
              "      <td>158.420441</td>\n",
              "    </tr>\n",
              "    <tr>\n",
              "      <th>2</th>\n",
              "      <td>87.443939</td>\n",
              "      <td>154.189316</td>\n",
              "    </tr>\n",
              "    <tr>\n",
              "      <th>3</th>\n",
              "      <td>110.090909</td>\n",
              "      <td>161.136969</td>\n",
              "    </tr>\n",
              "    <tr>\n",
              "      <th>4</th>\n",
              "      <td>126.787879</td>\n",
              "      <td>158.819572</td>\n",
              "    </tr>\n",
              "  </tbody>\n",
              "</table>\n",
              "</div>\n",
              "      <button class=\"colab-df-convert\" onclick=\"convertToInteractive('df-95136f93-ba4b-48e7-9858-f7a5df80a0b8')\"\n",
              "              title=\"Convert this dataframe to an interactive table.\"\n",
              "              style=\"display:none;\">\n",
              "        \n",
              "  <svg xmlns=\"http://www.w3.org/2000/svg\" height=\"24px\"viewBox=\"0 0 24 24\"\n",
              "       width=\"24px\">\n",
              "    <path d=\"M0 0h24v24H0V0z\" fill=\"none\"/>\n",
              "    <path d=\"M18.56 5.44l.94 2.06.94-2.06 2.06-.94-2.06-.94-.94-2.06-.94 2.06-2.06.94zm-11 1L8.5 8.5l.94-2.06 2.06-.94-2.06-.94L8.5 2.5l-.94 2.06-2.06.94zm10 10l.94 2.06.94-2.06 2.06-.94-2.06-.94-.94-2.06-.94 2.06-2.06.94z\"/><path d=\"M17.41 7.96l-1.37-1.37c-.4-.4-.92-.59-1.43-.59-.52 0-1.04.2-1.43.59L10.3 9.45l-7.72 7.72c-.78.78-.78 2.05 0 2.83L4 21.41c.39.39.9.59 1.41.59.51 0 1.02-.2 1.41-.59l7.78-7.78 2.81-2.81c.8-.78.8-2.07 0-2.86zM5.41 20L4 18.59l7.72-7.72 1.47 1.35L5.41 20z\"/>\n",
              "  </svg>\n",
              "      </button>\n",
              "      \n",
              "  <style>\n",
              "    .colab-df-container {\n",
              "      display:flex;\n",
              "      flex-wrap:wrap;\n",
              "      gap: 12px;\n",
              "    }\n",
              "\n",
              "    .colab-df-convert {\n",
              "      background-color: #E8F0FE;\n",
              "      border: none;\n",
              "      border-radius: 50%;\n",
              "      cursor: pointer;\n",
              "      display: none;\n",
              "      fill: #1967D2;\n",
              "      height: 32px;\n",
              "      padding: 0 0 0 0;\n",
              "      width: 32px;\n",
              "    }\n",
              "\n",
              "    .colab-df-convert:hover {\n",
              "      background-color: #E2EBFA;\n",
              "      box-shadow: 0px 1px 2px rgba(60, 64, 67, 0.3), 0px 1px 3px 1px rgba(60, 64, 67, 0.15);\n",
              "      fill: #174EA6;\n",
              "    }\n",
              "\n",
              "    [theme=dark] .colab-df-convert {\n",
              "      background-color: #3B4455;\n",
              "      fill: #D2E3FC;\n",
              "    }\n",
              "\n",
              "    [theme=dark] .colab-df-convert:hover {\n",
              "      background-color: #434B5C;\n",
              "      box-shadow: 0px 1px 3px 1px rgba(0, 0, 0, 0.15);\n",
              "      filter: drop-shadow(0px 1px 2px rgba(0, 0, 0, 0.3));\n",
              "      fill: #FFFFFF;\n",
              "    }\n",
              "  </style>\n",
              "\n",
              "      <script>\n",
              "        const buttonEl =\n",
              "          document.querySelector('#df-95136f93-ba4b-48e7-9858-f7a5df80a0b8 button.colab-df-convert');\n",
              "        buttonEl.style.display =\n",
              "          google.colab.kernel.accessAllowed ? 'block' : 'none';\n",
              "\n",
              "        async function convertToInteractive(key) {\n",
              "          const element = document.querySelector('#df-95136f93-ba4b-48e7-9858-f7a5df80a0b8');\n",
              "          const dataTable =\n",
              "            await google.colab.kernel.invokeFunction('convertToInteractive',\n",
              "                                                     [key], {});\n",
              "          if (!dataTable) return;\n",
              "\n",
              "          const docLinkHtml = 'Like what you see? Visit the ' +\n",
              "            '<a target=\"_blank\" href=https://colab.research.google.com/notebooks/data_table.ipynb>data table notebook</a>'\n",
              "            + ' to learn more about interactive tables.';\n",
              "          element.innerHTML = '';\n",
              "          dataTable['output_type'] = 'display_data';\n",
              "          await google.colab.output.renderOutput(dataTable, element);\n",
              "          const docLink = document.createElement('div');\n",
              "          docLink.innerHTML = docLinkHtml;\n",
              "          element.appendChild(docLink);\n",
              "        }\n",
              "      </script>\n",
              "    </div>\n",
              "  </div>\n",
              "  "
            ]
          },
          "metadata": {},
          "execution_count": 17
        }
      ]
    },
    {
      "cell_type": "code",
      "source": [
        "x = data_df.x.values.reshape(-1, 1)\n",
        "y = data_df.y.values.reshape(-1, 1)\n",
        "print('x\\n', x, '\\n')\n",
        "print('y\\n', y)\n",
        "x_train, x_test, y_train, y_test = train_test_split(x, y, test_size=0.30, random_state=42)"
      ],
      "metadata": {
        "colab": {
          "base_uri": "https://localhost:8080/"
        },
        "id": "CZ16rtT71-vw",
        "outputId": "8d62b9b2-d69d-471e-acab-222c8aad7ce3"
      },
      "execution_count": 18,
      "outputs": [
        {
          "output_type": "stream",
          "name": "stdout",
          "text": [
            "x\n",
            " [[  59.        ]\n",
            " [  88.6969697 ]\n",
            " [  87.44393939]\n",
            " [ 110.09090909]\n",
            " [ 126.78787879]\n",
            " [ 148.48484848]\n",
            " [ 168.18181818]\n",
            " [ 187.87878788]\n",
            " [ 207.57575758]\n",
            " [ 227.27272727]\n",
            " [ 246.96969697]\n",
            " [ 266.66666667]\n",
            " [ 286.36363636]\n",
            " [ 306.06060606]\n",
            " [ 325.75757576]\n",
            " [ 345.45454545]\n",
            " [ 365.15151515]\n",
            " [ 384.84848485]\n",
            " [ 404.54545455]\n",
            " [ 424.24242424]\n",
            " [ 443.93939394]\n",
            " [ 463.63636364]\n",
            " [ 483.33333333]\n",
            " [ 503.03030303]\n",
            " [ 522.72727273]\n",
            " [ 542.42424242]\n",
            " [ 562.12121212]\n",
            " [ 581.81818182]\n",
            " [ 601.51515152]\n",
            " [ 621.21212121]\n",
            " [ 640.90909091]\n",
            " [ 660.60606061]\n",
            " [ 680.3030303 ]\n",
            " [ 700.        ]\n",
            " [ 719.6969697 ]\n",
            " [ 739.39393939]\n",
            " [ 759.09090909]\n",
            " [ 778.78787879]\n",
            " [ 798.48484848]\n",
            " [ 818.18181818]\n",
            " [ 837.87878788]\n",
            " [ 857.57575758]\n",
            " [ 877.27272727]\n",
            " [ 896.96969697]\n",
            " [ 916.66666667]\n",
            " [ 936.36363636]\n",
            " [ 956.06060606]\n",
            " [ 975.75757576]\n",
            " [ 995.45454545]\n",
            " [1015.15151515]\n",
            " [1034.84848485]\n",
            " [1054.54545455]\n",
            " [1074.24242424]\n",
            " [1093.93939394]\n",
            " [1113.63636364]\n",
            " [1133.33333333]\n",
            " [1153.03030303]\n",
            " [1172.72727273]\n",
            " [1192.42424242]\n",
            " [1212.12121212]\n",
            " [1231.81818182]\n",
            " [1251.51515152]\n",
            " [1271.21212121]\n",
            " [1290.90909091]\n",
            " [1310.60606061]\n",
            " [1330.3030303 ]\n",
            " [1350.        ]\n",
            " [1369.6969697 ]\n",
            " [1389.39393939]\n",
            " [1409.09090909]\n",
            " [1428.78787879]\n",
            " [1448.48484848]\n",
            " [1468.18181818]\n",
            " [1487.87878788]\n",
            " [1507.57575758]\n",
            " [1527.27272727]\n",
            " [1546.96969697]\n",
            " [1566.66666667]\n",
            " [1586.36363636]\n",
            " [1606.06060606]\n",
            " [1625.75757576]\n",
            " [1645.45454545]\n",
            " [1665.15151515]\n",
            " [1684.84848485]\n",
            " [1704.54545455]\n",
            " [1724.24242424]\n",
            " [1743.93939394]\n",
            " [1763.63636364]\n",
            " [1783.33333333]\n",
            " [1803.03030303]\n",
            " [1822.72727273]\n",
            " [1842.42424242]\n",
            " [1862.12121212]\n",
            " [1881.81818182]\n",
            " [1901.51515152]\n",
            " [1921.21212121]\n",
            " [1940.90909091]\n",
            " [1960.60606061]\n",
            " [1980.3030303 ]\n",
            " [2000.        ]] \n",
            "\n",
            "y\n",
            " [[152.55342831]\n",
            " [158.42044109]\n",
            " [154.18931647]\n",
            " [161.1369688 ]\n",
            " [158.81957204]\n",
            " [157.01657457]\n",
            " [160.84024381]\n",
            " [159.41365734]\n",
            " [157.1368088 ]\n",
            " [159.35784736]\n",
            " [157.54286158]\n",
            " [157.73520716]\n",
            " [159.34756091]\n",
            " [155.23404557]\n",
            " [155.80774009]\n",
            " [158.3299704 ]\n",
            " [157.62585291]\n",
            " [160.47697951]\n",
            " [158.22940639]\n",
            " [157.41781684]\n",
            " [163.37069148]\n",
            " [160.18481104]\n",
            " [160.96838974]\n",
            " [158.18080666]\n",
            " [160.13850728]\n",
            " [161.6460876 ]\n",
            " [159.31922497]\n",
            " [162.56957785]\n",
            " [160.81387414]\n",
            " [161.62873371]\n",
            " [161.20567768]\n",
            " [166.31061698]\n",
            " [162.77603585]\n",
            " [160.88457814]\n",
            " [164.84205952]\n",
            " [160.95225209]\n",
            " [164.00863628]\n",
            " [159.86853854]\n",
            " [161.32847639]\n",
            " [164.57554065]\n",
            " [165.85572104]\n",
            " [164.91849414]\n",
            " [164.54143071]\n",
            " [164.36748958]\n",
            " [162.20962269]\n",
            " [163.92394795]\n",
            " [164.63932852]\n",
            " [167.87182021]\n",
            " [166.64178203]\n",
            " [162.62543484]\n",
            " [166.99665279]\n",
            " [165.77528998]\n",
            " [165.38858024]\n",
            " [168.16274652]\n",
            " [169.19836268]\n",
            " [169.19589357]\n",
            " [165.85186798]\n",
            " [167.10884798]\n",
            " [168.58676929]\n",
            " [170.07230238]\n",
            " [167.35983334]\n",
            " [168.14383356]\n",
            " [166.49945126]\n",
            " [166.51667766]\n",
            " [170.73111225]\n",
            " [172.01551036]\n",
            " [169.35597976]\n",
            " [171.70403549]\n",
            " [170.61721144]\n",
            " [168.80066958]\n",
            " [171.01067   ]\n",
            " [173.56092162]\n",
            " [170.6101661 ]\n",
            " [174.00807519]\n",
            " [165.83626737]\n",
            " [172.91653228]\n",
            " [171.64379111]\n",
            " [171.06865197]\n",
            " [172.04715792]\n",
            " [168.08546823]\n",
            " [171.81823198]\n",
            " [173.1687706 ]\n",
            " [175.60730324]\n",
            " [171.81194441]\n",
            " [171.42846734]\n",
            " [172.23891016]\n",
            " [175.27019817]\n",
            " [174.29386586]\n",
            " [172.77381293]\n",
            " [175.0568379 ]\n",
            " [174.42142783]\n",
            " [176.36153241]\n",
            " [173.21710593]\n",
            " [174.16285752]\n",
            " [174.23093521]\n",
            " [172.28509132]\n",
            " [176.00133146]\n",
            " [176.12817115]\n",
            " [175.81325722]\n",
            " [175.53082573]]\n"
          ]
        }
      ]
    },
    {
      "cell_type": "code",
      "source": [
        "rf_reg = RandomForestRegressor()\n",
        "rf_reg.fit(x_train, y_train)"
      ],
      "metadata": {
        "colab": {
          "base_uri": "https://localhost:8080/"
        },
        "id": "5wG67xxn2PC8",
        "outputId": "2162f03b-7124-4196-d036-b680a799f733"
      },
      "execution_count": 19,
      "outputs": [
        {
          "output_type": "execute_result",
          "data": {
            "text/plain": [
              "RandomForestRegressor()"
            ]
          },
          "metadata": {},
          "execution_count": 19
        }
      ]
    },
    {
      "cell_type": "code",
      "source": [
        "y_pred = rf_reg.predict(x_test)\n",
        "y_pred"
      ],
      "metadata": {
        "colab": {
          "base_uri": "https://localhost:8080/"
        },
        "id": "Z3ilo8NF2YKl",
        "outputId": "d9d4b0c1-1e47-4775-b437-15d30c012c30"
      },
      "execution_count": 20,
      "outputs": [
        {
          "output_type": "execute_result",
          "data": {
            "text/plain": [
              "array([172.8742376 , 167.67268732, 172.62108222, 164.80991699,\n",
              "       164.74160582, 161.25063548, 159.3329836 , 169.87231151,\n",
              "       157.59338255, 155.93811102, 159.3696448 , 161.93641602,\n",
              "       168.0367944 , 162.93019185, 175.76540734, 159.40167513,\n",
              "       170.70540262, 171.47367478, 156.13436215, 162.69467076,\n",
              "       166.70298618, 174.84957586, 161.63942301, 164.24970437,\n",
              "       171.19766995, 157.45191154, 163.11049913, 173.70590356,\n",
              "       157.59535333, 171.82187498])"
            ]
          },
          "metadata": {},
          "execution_count": 20
        }
      ]
    },
    {
      "cell_type": "code",
      "source": [
        "print(\"Test Accuracy = \", rf_reg.score(x_test, y_test))"
      ],
      "metadata": {
        "colab": {
          "base_uri": "https://localhost:8080/"
        },
        "id": "E4YDKIS02a3_",
        "outputId": "00e435cd-7615-45cb-976e-4411c4e1f036"
      },
      "execution_count": 21,
      "outputs": [
        {
          "output_type": "stream",
          "name": "stdout",
          "text": [
            "Test Accuracy =  0.8677866434815011\n"
          ]
        }
      ]
    }
  ]
}