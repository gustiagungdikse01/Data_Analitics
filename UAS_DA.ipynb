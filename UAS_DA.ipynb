{
  "nbformat": 4,
  "nbformat_minor": 0,
  "metadata": {
    "colab": {
      "name": "UAS_DA.ipynb",
      "provenance": [],
      "collapsed_sections": [],
      "authorship_tag": "ABX9TyOsPF689LnSTYeDLg+8+l1C",
      "include_colab_link": true
    },
    "kernelspec": {
      "name": "python3",
      "display_name": "Python 3"
    },
    "language_info": {
      "name": "python"
    }
  },
  "cells": [
    {
      "cell_type": "markdown",
      "metadata": {
        "id": "view-in-github",
        "colab_type": "text"
      },
      "source": [
        "<a href=\"https://colab.research.google.com/github/gustiagungdikse01/Data_Analitics/blob/main/UAS_DA.ipynb\" target=\"_parent\"><img src=\"https://colab.research.google.com/assets/colab-badge.svg\" alt=\"Open In Colab\"/></a>"
      ]
    },
    {
      "cell_type": "markdown",
      "source": [
        "Nama : Gusti Agung Dikse Semadi \n",
        "NIM :19101230 \n",
        "Prodi : TI-MDI \n",
        "Matkul : Data Analytics\n",
        "\n",
        "Proses Running Sampel Codes dari penelitian yang dilakukan oleh SHUBAM SUMBRIA yang berjudul Clustering of Salaried Employees using k-Means yang saya download di halaman tersebut juga yaitu URL clustering.\n",
        "\n",
        "Guna memenuhi salah satu Tugas untuk UAS dalam matakuliah Data Analitycs\n",
        "\n",
        "running code disini menggunakan metode k-Means untuk pemodelan Clustering."
      ],
      "metadata": {
        "id": "sfjJRPEmk-Bs"
      }
    },
    {
      "cell_type": "code",
      "execution_count": null,
      "metadata": {
        "colab": {
          "base_uri": "https://localhost:8080/"
        },
        "id": "WDp8iQ0v16Jb",
        "outputId": "d9fc236d-44aa-485a-94e5-1ff64559a6dc"
      },
      "outputs": [
        {
          "output_type": "stream",
          "name": "stdout",
          "text": [
            "Mounted at /content/gdrive\n"
          ]
        }
      ],
      "source": [
        "from google.colab import drive\n",
        "drive.mount('/content/gdrive')"
      ]
    },
    {
      "cell_type": "code",
      "source": [
        "import os\n",
        "os.environ['KAGGLE_CONFIG_DIR'] = \"/content/gdrive/My Drive/uas\"\n",
        "# /content/gdrive/My Drive/uas is the path where kaggle.json is present in the Google Drive"
      ],
      "metadata": {
        "id": "W9AONtGk2Rgm"
      },
      "execution_count": null,
      "outputs": []
    },
    {
      "cell_type": "code",
      "source": [
        "#changing the working directory\n",
        "%cd /content/gdrive/My Drive/uas\n",
        "#Check the present working directory using pwd command"
      ],
      "metadata": {
        "colab": {
          "base_uri": "https://localhost:8080/"
        },
        "id": "5nN3jj0C2Ytq",
        "outputId": "cef5b720-3c04-4f89-cd0a-5e7b920e7eeb"
      },
      "execution_count": null,
      "outputs": [
        {
          "output_type": "stream",
          "name": "stdout",
          "text": [
            "/content/gdrive/My Drive/uas\n"
          ]
        }
      ]
    },
    {
      "cell_type": "code",
      "source": [
        "!pip install matplotlib-venn"
      ],
      "metadata": {
        "colab": {
          "base_uri": "https://localhost:8080/"
        },
        "id": "ZPCZIhFE2jjN",
        "outputId": "95c81c6f-430d-400e-c212-9512bd817d65"
      },
      "execution_count": null,
      "outputs": [
        {
          "output_type": "stream",
          "name": "stdout",
          "text": [
            "Looking in indexes: https://pypi.org/simple, https://us-python.pkg.dev/colab-wheels/public/simple/\n",
            "Requirement already satisfied: matplotlib-venn in /usr/local/lib/python3.7/dist-packages (0.11.7)\n",
            "Requirement already satisfied: matplotlib in /usr/local/lib/python3.7/dist-packages (from matplotlib-venn) (3.2.2)\n",
            "Requirement already satisfied: numpy in /usr/local/lib/python3.7/dist-packages (from matplotlib-venn) (1.21.6)\n",
            "Requirement already satisfied: scipy in /usr/local/lib/python3.7/dist-packages (from matplotlib-venn) (1.4.1)\n",
            "Requirement already satisfied: kiwisolver>=1.0.1 in /usr/local/lib/python3.7/dist-packages (from matplotlib->matplotlib-venn) (1.4.3)\n",
            "Requirement already satisfied: pyparsing!=2.0.4,!=2.1.2,!=2.1.6,>=2.0.1 in /usr/local/lib/python3.7/dist-packages (from matplotlib->matplotlib-venn) (3.0.9)\n",
            "Requirement already satisfied: cycler>=0.10 in /usr/local/lib/python3.7/dist-packages (from matplotlib->matplotlib-venn) (0.11.0)\n",
            "Requirement already satisfied: python-dateutil>=2.1 in /usr/local/lib/python3.7/dist-packages (from matplotlib->matplotlib-venn) (2.8.2)\n",
            "Requirement already satisfied: typing-extensions in /usr/local/lib/python3.7/dist-packages (from kiwisolver>=1.0.1->matplotlib->matplotlib-venn) (4.1.1)\n",
            "Requirement already satisfied: six>=1.5 in /usr/local/lib/python3.7/dist-packages (from python-dateutil>=2.1->matplotlib->matplotlib-venn) (1.15.0)\n"
          ]
        }
      ]
    },
    {
      "cell_type": "code",
      "source": [
        "!apt-get -qq install -y libfluidsynth1"
      ],
      "metadata": {
        "colab": {
          "base_uri": "https://localhost:8080/"
        },
        "id": "RIjDiXbT2mwa",
        "outputId": "8be7d1ca-36b4-40e8-d87b-92aa3b714d77"
      },
      "execution_count": null,
      "outputs": [
        {
          "output_type": "stream",
          "name": "stdout",
          "text": [
            "Selecting previously unselected package libfluidsynth1:amd64.\n",
            "(Reading database ... 155639 files and directories currently installed.)\n",
            "Preparing to unpack .../libfluidsynth1_1.1.9-1_amd64.deb ...\n",
            "Unpacking libfluidsynth1:amd64 (1.1.9-1) ...\n",
            "Setting up libfluidsynth1:amd64 (1.1.9-1) ...\n",
            "Processing triggers for libc-bin (2.27-3ubuntu1.3) ...\n",
            "/sbin/ldconfig.real: /usr/local/lib/python3.7/dist-packages/ideep4py/lib/libmkldnn.so.0 is not a symbolic link\n",
            "\n"
          ]
        }
      ]
    },
    {
      "cell_type": "code",
      "source": [
        "# https://pypi.python.org/pypi/libarchive\n",
        "!apt-get -qq install -y libarchive-dev && pip install -U libarchive\n",
        "import libarchive"
      ],
      "metadata": {
        "colab": {
          "base_uri": "https://localhost:8080/"
        },
        "id": "KEEfQt5m2u0Z",
        "outputId": "3f5c8468-99f8-443e-d7d2-de60d229e4ad"
      },
      "execution_count": null,
      "outputs": [
        {
          "output_type": "stream",
          "name": "stdout",
          "text": [
            "Selecting previously unselected package libarchive-dev:amd64.\n",
            "(Reading database ... \r(Reading database ... 5%\r(Reading database ... 10%\r(Reading database ... 15%\r(Reading database ... 20%\r(Reading database ... 25%\r(Reading database ... 30%\r(Reading database ... 35%\r(Reading database ... 40%\r(Reading database ... 45%\r(Reading database ... 50%\r(Reading database ... 55%\r(Reading database ... 60%\r(Reading database ... 65%\r(Reading database ... 70%\r(Reading database ... 75%\r(Reading database ... 80%\r(Reading database ... 85%\r(Reading database ... 90%\r(Reading database ... 95%\r(Reading database ... 100%\r(Reading database ... 155644 files and directories currently installed.)\n",
            "Preparing to unpack .../libarchive-dev_3.2.2-3.1ubuntu0.7_amd64.deb ...\n",
            "Unpacking libarchive-dev:amd64 (3.2.2-3.1ubuntu0.7) ...\n",
            "Setting up libarchive-dev:amd64 (3.2.2-3.1ubuntu0.7) ...\n",
            "Processing triggers for man-db (2.8.3-2ubuntu0.1) ...\n",
            "Looking in indexes: https://pypi.org/simple, https://us-python.pkg.dev/colab-wheels/public/simple/\n",
            "Collecting libarchive\n",
            "  Downloading libarchive-0.4.7.tar.gz (23 kB)\n",
            "Collecting nose\n",
            "  Downloading nose-1.3.7-py3-none-any.whl (154 kB)\n",
            "\u001b[K     |████████████████████████████████| 154 kB 5.9 MB/s \n",
            "\u001b[?25hBuilding wheels for collected packages: libarchive\n",
            "  Building wheel for libarchive (setup.py) ... \u001b[?25l\u001b[?25hdone\n",
            "  Created wheel for libarchive: filename=libarchive-0.4.7-py3-none-any.whl size=31646 sha256=6d948126cbf0a7b3cbf2d776da7bd60ccdcd3def2666f474dff53e66b87605ac\n",
            "  Stored in directory: /root/.cache/pip/wheels/63/b1/c6/b3da79bec2012175bd43603eed98ef8548ac1733b77c1d4330\n",
            "Successfully built libarchive\n",
            "Installing collected packages: nose, libarchive\n",
            "Successfully installed libarchive-0.4.7 nose-1.3.7\n"
          ]
        }
      ]
    },
    {
      "cell_type": "code",
      "source": [
        "# https://pypi.python.org/pypi/pydot\n",
        "!apt-get -qq install -y graphviz && pip install pydot\n",
        "import pydot"
      ],
      "metadata": {
        "colab": {
          "base_uri": "https://localhost:8080/"
        },
        "id": "aIR6isrN22QJ",
        "outputId": "13e1c676-01c4-4224-cceb-69109583813c"
      },
      "execution_count": null,
      "outputs": [
        {
          "output_type": "stream",
          "name": "stdout",
          "text": [
            "Looking in indexes: https://pypi.org/simple, https://us-python.pkg.dev/colab-wheels/public/simple/\n",
            "Requirement already satisfied: pydot in /usr/local/lib/python3.7/dist-packages (1.3.0)\n",
            "Requirement already satisfied: pyparsing>=2.1.4 in /usr/local/lib/python3.7/dist-packages (from pydot) (3.0.9)\n"
          ]
        }
      ]
    },
    {
      "cell_type": "code",
      "source": [
        "!pip install cartopy\n",
        "import cartopy"
      ],
      "metadata": {
        "colab": {
          "base_uri": "https://localhost:8080/"
        },
        "id": "YriO-tHU26Sy",
        "outputId": "20ae59c4-e670-44e3-e73a-7e5bc843cecb"
      },
      "execution_count": null,
      "outputs": [
        {
          "output_type": "stream",
          "name": "stdout",
          "text": [
            "Looking in indexes: https://pypi.org/simple, https://us-python.pkg.dev/colab-wheels/public/simple/\n",
            "Collecting cartopy\n",
            "  Downloading Cartopy-0.20.3.tar.gz (10.8 MB)\n",
            "\u001b[K     |████████████████████████████████| 10.8 MB 3.7 MB/s \n",
            "\u001b[?25h  Installing build dependencies ... \u001b[?25l\u001b[?25hdone\n",
            "  Getting requirements to build wheel ... \u001b[?25l\u001b[?25herror\n",
            "\u001b[33mWARNING: Discarding https://files.pythonhosted.org/packages/98/a9/0e4000eabadfcff6373c0fec790863b543b919cbfec18aed60d71ba67d5d/Cartopy-0.20.3.tar.gz#sha256=0d60fa2e2fbd77c4d1f6b1f9d3b588966147f07c1b179d2d34570ac1e1b49006 (from https://pypi.org/simple/cartopy/) (requires-python:>=3.7). Command errored out with exit status 1: /usr/bin/python3 /usr/local/lib/python3.7/dist-packages/pip/_vendor/pep517/in_process/_in_process.py get_requires_for_build_wheel /tmp/tmpdyq3j9z6 Check the logs for full command output.\u001b[0m\n",
            "  Downloading Cartopy-0.20.2.tar.gz (10.8 MB)\n",
            "\u001b[K     |████████████████████████████████| 10.8 MB 25.4 MB/s \n",
            "\u001b[?25h  Installing build dependencies ... \u001b[?25l\u001b[?25hdone\n",
            "  Getting requirements to build wheel ... \u001b[?25l\u001b[?25herror\n",
            "\u001b[33mWARNING: Discarding https://files.pythonhosted.org/packages/f6/55/1e1c737dc9436b320deead73d1c455ddbb74b8b6992081863492f6f6378a/Cartopy-0.20.2.tar.gz#sha256=4d08c198ecaa50a6a6b109d0f14c070e813defc046a83ac5d7ab494f85599e35 (from https://pypi.org/simple/cartopy/) (requires-python:>=3.7). Command errored out with exit status 1: /usr/bin/python3 /usr/local/lib/python3.7/dist-packages/pip/_vendor/pep517/in_process/_in_process.py get_requires_for_build_wheel /tmp/tmptbjbwv30 Check the logs for full command output.\u001b[0m\n",
            "  Downloading Cartopy-0.20.1.tar.gz (10.8 MB)\n",
            "\u001b[K     |████████████████████████████████| 10.8 MB 21.9 MB/s \n",
            "\u001b[?25h  Installing build dependencies ... \u001b[?25l\u001b[?25hdone\n",
            "  Getting requirements to build wheel ... \u001b[?25l\u001b[?25herror\n",
            "\u001b[33mWARNING: Discarding https://files.pythonhosted.org/packages/fc/59/aa52698e3838f4cd0e7eaa75bd86837e9e0b05041dbdaee3cda2fffced06/Cartopy-0.20.1.tar.gz#sha256=91f87b130e2574547a20cd634498df97d797abd12dcfd0235bc0cdbcec8b05e3 (from https://pypi.org/simple/cartopy/) (requires-python:>=3.7). Command errored out with exit status 1: /usr/bin/python3 /usr/local/lib/python3.7/dist-packages/pip/_vendor/pep517/in_process/_in_process.py get_requires_for_build_wheel /tmp/tmp_0_105fh Check the logs for full command output.\u001b[0m\n",
            "  Downloading Cartopy-0.20.0.tar.gz (10.8 MB)\n",
            "\u001b[K     |████████████████████████████████| 10.8 MB 25.5 MB/s \n",
            "\u001b[?25h  Installing build dependencies ... \u001b[?25l\u001b[?25hdone\n",
            "  Getting requirements to build wheel ... \u001b[?25l\u001b[?25herror\n",
            "\u001b[33mWARNING: Discarding https://files.pythonhosted.org/packages/0f/c0/58453b036e79046d211f083880d58dcce787e7e07647ac25dc46c6555099/Cartopy-0.20.0.tar.gz#sha256=eae58aff26806e63cf115b2bce9477cedc4aa9f578c5e477b2c25cfa404f2b7a (from https://pypi.org/simple/cartopy/) (requires-python:>=3.7). Command errored out with exit status 1: /usr/bin/python3 /usr/local/lib/python3.7/dist-packages/pip/_vendor/pep517/in_process/_in_process.py get_requires_for_build_wheel /tmp/tmp9b45rczx Check the logs for full command output.\u001b[0m\n",
            "  Downloading Cartopy-0.19.0.post1.tar.gz (12.1 MB)\n",
            "\u001b[K     |████████████████████████████████| 12.1 MB 26.0 MB/s \n",
            "\u001b[?25h  Installing build dependencies ... \u001b[?25l\u001b[?25hdone\n",
            "  Getting requirements to build wheel ... \u001b[?25l\u001b[?25hdone\n",
            "    Preparing wheel metadata ... \u001b[?25l\u001b[?25hdone\n",
            "Requirement already satisfied: numpy>=1.13.3 in /usr/local/lib/python3.7/dist-packages (from cartopy) (1.21.6)\n",
            "Collecting pyshp>=2\n",
            "  Downloading pyshp-2.3.0-py2.py3-none-any.whl (46 kB)\n",
            "\u001b[K     |████████████████████████████████| 46 kB 3.7 MB/s \n",
            "\u001b[?25hRequirement already satisfied: shapely>=1.5.6 in /usr/local/lib/python3.7/dist-packages (from cartopy) (1.8.2)\n",
            "Building wheels for collected packages: cartopy\n",
            "  Building wheel for cartopy (PEP 517) ... \u001b[?25l\u001b[?25hdone\n",
            "  Created wheel for cartopy: filename=Cartopy-0.19.0.post1-cp37-cp37m-linux_x86_64.whl size=12516312 sha256=4cafd2048a6a758665d5bbfb86c2b5a9c071ef15e6506c1bb5aafdc4aecc1d61\n",
            "  Stored in directory: /root/.cache/pip/wheels/98/01/f7/bd10aeb96fe4b518cde5f7c4f5e12c7202f85b7353a5017847\n",
            "Successfully built cartopy\n",
            "Installing collected packages: pyshp, cartopy\n",
            "Successfully installed cartopy-0.19.0.post1 pyshp-2.3.0\n"
          ]
        }
      ]
    },
    {
      "cell_type": "markdown",
      "source": [
        "Importing Required Libararies and Modules"
      ],
      "metadata": {
        "id": "-ZLASPgr13R4"
      }
    },
    {
      "cell_type": "code",
      "source": [
        "# This Python 3 environment comes with many helpful analytics libraries installed\n",
        "# It is defined by the kaggle/python Docker image: https://github.com/kaggle/docker-python\n",
        "# For example, here's several helpful packages to load\n",
        "\n",
        "import numpy as np # linear algebra\n",
        "import pandas as pd # data processing, CSV file I/O (e.g. pd.read_csv)\n",
        "\n",
        "# Input data files are available in the read-only \"../input/\" directory\n",
        "# For example, running this (by clicking run or pressing Shift+Enter) will list all files under the input directory\n",
        "\n",
        "import os\n",
        "for dirname, _, filenames in os.walk('/kaggle/input'):\n",
        "    for filename in filenames:\n",
        "        print(os.path.join(dirname, filename))\n",
        "\n",
        "# You can write up to 20GB to the current directory (/kaggle/working/) that gets preserved as output when you create a version using \"Save & Run All\" \n",
        "# You can also write temporary files to /kaggle/temp/, but they won't be saved outside of the current session"
      ],
      "metadata": {
        "id": "dHtnBOQG3i29"
      },
      "execution_count": null,
      "outputs": []
    },
    {
      "cell_type": "code",
      "source": [
        "import warnings\n",
        "warnings.filterwarnings('ignore')\n",
        "import pandas as pd\n",
        "import numpy as np\n",
        "import missingno as msno\n",
        "import matplotlib.pyplot as plt\n",
        "import seaborn as sns\n",
        "from sklearn.preprocessing import LabelEncoder,normalize\n",
        "import scipy.cluster.hierarchy as shc\n",
        "from sklearn.cluster import AgglomerativeClustering\n",
        "from sklearn.cluster import KMeans\n",
        "from sklearn.metrics import silhouette_score\n",
        "from sklearn.metrics import calinski_harabasz_score\n",
        "from sklearn.metrics import davies_bouldin_score\n",
        "from sklearn.decomposition import PCA"
      ],
      "metadata": {
        "id": "111rk7wy3x2K"
      },
      "execution_count": null,
      "outputs": []
    },
    {
      "cell_type": "code",
      "source": [
        "!kaggle kernels output shubamsumbria/clustering-of-salaried-employees-using-k-means -p /path/to/dest"
      ],
      "metadata": {
        "colab": {
          "base_uri": "https://localhost:8080/"
        },
        "id": "-dEhchcg319p",
        "outputId": "bb0d3ffb-a3a9-45d7-829b-2158797a15bc"
      },
      "execution_count": null,
      "outputs": [
        {
          "output_type": "stream",
          "name": "stdout",
          "text": [
            "Output file downloaded to /path/to/dest/__notebook_source__.ipynb\n",
            "Kernel log downloaded to /path/to/dest/clustering-of-salaried-employees-using-k-means.log \n"
          ]
        }
      ]
    },
    {
      "cell_type": "code",
      "source": [
        "ls"
      ],
      "metadata": {
        "colab": {
          "base_uri": "https://localhost:8080/"
        },
        "id": "F3KsL9nq_5Cg",
        "outputId": "89d6475b-3ad3-46ff-e4a4-82824296457d"
      },
      "execution_count": null,
      "outputs": [
        {
          "output_type": "stream",
          "name": "stdout",
          "text": [
            "hyderabad-salaried-employees.csv  kaggle.json\n"
          ]
        }
      ]
    },
    {
      "cell_type": "markdown",
      "source": [
        "Loading Dataset into Pandas' DataFrame"
      ],
      "metadata": {
        "id": "H-H3WR7o1-Ig"
      }
    },
    {
      "cell_type": "code",
      "source": [
        "df = pd.read_csv(\"hyderabad-salaried-employees.csv\")\n",
        "df.head()"
      ],
      "metadata": {
        "colab": {
          "base_uri": "https://localhost:8080/",
          "height": 337
        },
        "id": "pU_G6Zd4_6A0",
        "outputId": "ad393655-1a09-4498-93cd-1a585df71fac"
      },
      "execution_count": null,
      "outputs": [
        {
          "output_type": "execute_result",
          "data": {
            "text/plain": [
              "      candidateName                            companyName  \\\n",
              "0   Ruchismita Dash                                Amdocs    \n",
              "1       MANISHA DAS  APOLLO HOSPITALS ENTERPRISES LIMITED    \n",
              "2  C J GEETHA PRIYA                   propertyoneshop.com    \n",
              "3          SRIKANTH                         Axis Bank Ltd    \n",
              "4  Madduri Srinivas                                   CTS    \n",
              "\n",
              "                   designation          experienceMas  \\\n",
              "0           Software Developer   2 Year(s) 1 Month(s)   \n",
              "1  SENIOR EXECUTIVE-OPERATIONS   5 Year(s) 9 Month(s)   \n",
              "2         System Administrator   4 Year(s) 4 Month(s)   \n",
              "3                          NaN  7 Year(s) 11 Month(s)   \n",
              "4           Associate Projects   6 Year(s) 8 Month(s)   \n",
              "\n",
              "        locationCurrentMas          qualificationMas    qualificationMas2  \\\n",
              "0  Hyderabad/ Secunderabad  BE/ B.Tech (Engineering)                  NaN   \n",
              "1  Hyderabad/ Secunderabad                 MBA/ PGDM  B.Pharm. (Pharmacy)   \n",
              "2  Hyderabad/ Secunderabad         B.Com. (Commerce)                  NaN   \n",
              "3  Hyderabad/ Secunderabad                       NaN            MBA/ PGDM   \n",
              "4  Hyderabad/ Secunderabad         B.Com. (Commerce)           MCA/ PGDCA   \n",
              "\n",
              "          salary            Category  \n",
              "0  Rs. 6.71 lacs  HYDERABAD-SALARIED  \n",
              "1   Rs. 5.0 lacs  HYDERABAD-SALARIED  \n",
              "2  Rs. 84.0 lacs  HYDERABAD-SALARIED  \n",
              "3   Rs. 7.0 lacs  HYDERABAD-SALARIED  \n",
              "4  Rs. 8.05 lacs  HYDERABAD-SALARIED  "
            ],
            "text/html": [
              "\n",
              "  <div id=\"df-ba045bd7-976f-430d-9a2e-e857b7eb41b9\">\n",
              "    <div class=\"colab-df-container\">\n",
              "      <div>\n",
              "<style scoped>\n",
              "    .dataframe tbody tr th:only-of-type {\n",
              "        vertical-align: middle;\n",
              "    }\n",
              "\n",
              "    .dataframe tbody tr th {\n",
              "        vertical-align: top;\n",
              "    }\n",
              "\n",
              "    .dataframe thead th {\n",
              "        text-align: right;\n",
              "    }\n",
              "</style>\n",
              "<table border=\"1\" class=\"dataframe\">\n",
              "  <thead>\n",
              "    <tr style=\"text-align: right;\">\n",
              "      <th></th>\n",
              "      <th>candidateName</th>\n",
              "      <th>companyName</th>\n",
              "      <th>designation</th>\n",
              "      <th>experienceMas</th>\n",
              "      <th>locationCurrentMas</th>\n",
              "      <th>qualificationMas</th>\n",
              "      <th>qualificationMas2</th>\n",
              "      <th>salary</th>\n",
              "      <th>Category</th>\n",
              "    </tr>\n",
              "  </thead>\n",
              "  <tbody>\n",
              "    <tr>\n",
              "      <th>0</th>\n",
              "      <td>Ruchismita Dash</td>\n",
              "      <td>Amdocs</td>\n",
              "      <td>Software Developer</td>\n",
              "      <td>2 Year(s) 1 Month(s)</td>\n",
              "      <td>Hyderabad/ Secunderabad</td>\n",
              "      <td>BE/ B.Tech (Engineering)</td>\n",
              "      <td>NaN</td>\n",
              "      <td>Rs. 6.71 lacs</td>\n",
              "      <td>HYDERABAD-SALARIED</td>\n",
              "    </tr>\n",
              "    <tr>\n",
              "      <th>1</th>\n",
              "      <td>MANISHA DAS</td>\n",
              "      <td>APOLLO HOSPITALS ENTERPRISES LIMITED</td>\n",
              "      <td>SENIOR EXECUTIVE-OPERATIONS</td>\n",
              "      <td>5 Year(s) 9 Month(s)</td>\n",
              "      <td>Hyderabad/ Secunderabad</td>\n",
              "      <td>MBA/ PGDM</td>\n",
              "      <td>B.Pharm. (Pharmacy)</td>\n",
              "      <td>Rs. 5.0 lacs</td>\n",
              "      <td>HYDERABAD-SALARIED</td>\n",
              "    </tr>\n",
              "    <tr>\n",
              "      <th>2</th>\n",
              "      <td>C J GEETHA PRIYA</td>\n",
              "      <td>propertyoneshop.com</td>\n",
              "      <td>System Administrator</td>\n",
              "      <td>4 Year(s) 4 Month(s)</td>\n",
              "      <td>Hyderabad/ Secunderabad</td>\n",
              "      <td>B.Com. (Commerce)</td>\n",
              "      <td>NaN</td>\n",
              "      <td>Rs. 84.0 lacs</td>\n",
              "      <td>HYDERABAD-SALARIED</td>\n",
              "    </tr>\n",
              "    <tr>\n",
              "      <th>3</th>\n",
              "      <td>SRIKANTH</td>\n",
              "      <td>Axis Bank Ltd</td>\n",
              "      <td>NaN</td>\n",
              "      <td>7 Year(s) 11 Month(s)</td>\n",
              "      <td>Hyderabad/ Secunderabad</td>\n",
              "      <td>NaN</td>\n",
              "      <td>MBA/ PGDM</td>\n",
              "      <td>Rs. 7.0 lacs</td>\n",
              "      <td>HYDERABAD-SALARIED</td>\n",
              "    </tr>\n",
              "    <tr>\n",
              "      <th>4</th>\n",
              "      <td>Madduri Srinivas</td>\n",
              "      <td>CTS</td>\n",
              "      <td>Associate Projects</td>\n",
              "      <td>6 Year(s) 8 Month(s)</td>\n",
              "      <td>Hyderabad/ Secunderabad</td>\n",
              "      <td>B.Com. (Commerce)</td>\n",
              "      <td>MCA/ PGDCA</td>\n",
              "      <td>Rs. 8.05 lacs</td>\n",
              "      <td>HYDERABAD-SALARIED</td>\n",
              "    </tr>\n",
              "  </tbody>\n",
              "</table>\n",
              "</div>\n",
              "      <button class=\"colab-df-convert\" onclick=\"convertToInteractive('df-ba045bd7-976f-430d-9a2e-e857b7eb41b9')\"\n",
              "              title=\"Convert this dataframe to an interactive table.\"\n",
              "              style=\"display:none;\">\n",
              "        \n",
              "  <svg xmlns=\"http://www.w3.org/2000/svg\" height=\"24px\"viewBox=\"0 0 24 24\"\n",
              "       width=\"24px\">\n",
              "    <path d=\"M0 0h24v24H0V0z\" fill=\"none\"/>\n",
              "    <path d=\"M18.56 5.44l.94 2.06.94-2.06 2.06-.94-2.06-.94-.94-2.06-.94 2.06-2.06.94zm-11 1L8.5 8.5l.94-2.06 2.06-.94-2.06-.94L8.5 2.5l-.94 2.06-2.06.94zm10 10l.94 2.06.94-2.06 2.06-.94-2.06-.94-.94-2.06-.94 2.06-2.06.94z\"/><path d=\"M17.41 7.96l-1.37-1.37c-.4-.4-.92-.59-1.43-.59-.52 0-1.04.2-1.43.59L10.3 9.45l-7.72 7.72c-.78.78-.78 2.05 0 2.83L4 21.41c.39.39.9.59 1.41.59.51 0 1.02-.2 1.41-.59l7.78-7.78 2.81-2.81c.8-.78.8-2.07 0-2.86zM5.41 20L4 18.59l7.72-7.72 1.47 1.35L5.41 20z\"/>\n",
              "  </svg>\n",
              "      </button>\n",
              "      \n",
              "  <style>\n",
              "    .colab-df-container {\n",
              "      display:flex;\n",
              "      flex-wrap:wrap;\n",
              "      gap: 12px;\n",
              "    }\n",
              "\n",
              "    .colab-df-convert {\n",
              "      background-color: #E8F0FE;\n",
              "      border: none;\n",
              "      border-radius: 50%;\n",
              "      cursor: pointer;\n",
              "      display: none;\n",
              "      fill: #1967D2;\n",
              "      height: 32px;\n",
              "      padding: 0 0 0 0;\n",
              "      width: 32px;\n",
              "    }\n",
              "\n",
              "    .colab-df-convert:hover {\n",
              "      background-color: #E2EBFA;\n",
              "      box-shadow: 0px 1px 2px rgba(60, 64, 67, 0.3), 0px 1px 3px 1px rgba(60, 64, 67, 0.15);\n",
              "      fill: #174EA6;\n",
              "    }\n",
              "\n",
              "    [theme=dark] .colab-df-convert {\n",
              "      background-color: #3B4455;\n",
              "      fill: #D2E3FC;\n",
              "    }\n",
              "\n",
              "    [theme=dark] .colab-df-convert:hover {\n",
              "      background-color: #434B5C;\n",
              "      box-shadow: 0px 1px 3px 1px rgba(0, 0, 0, 0.15);\n",
              "      filter: drop-shadow(0px 1px 2px rgba(0, 0, 0, 0.3));\n",
              "      fill: #FFFFFF;\n",
              "    }\n",
              "  </style>\n",
              "\n",
              "      <script>\n",
              "        const buttonEl =\n",
              "          document.querySelector('#df-ba045bd7-976f-430d-9a2e-e857b7eb41b9 button.colab-df-convert');\n",
              "        buttonEl.style.display =\n",
              "          google.colab.kernel.accessAllowed ? 'block' : 'none';\n",
              "\n",
              "        async function convertToInteractive(key) {\n",
              "          const element = document.querySelector('#df-ba045bd7-976f-430d-9a2e-e857b7eb41b9');\n",
              "          const dataTable =\n",
              "            await google.colab.kernel.invokeFunction('convertToInteractive',\n",
              "                                                     [key], {});\n",
              "          if (!dataTable) return;\n",
              "\n",
              "          const docLinkHtml = 'Like what you see? Visit the ' +\n",
              "            '<a target=\"_blank\" href=https://colab.research.google.com/notebooks/data_table.ipynb>data table notebook</a>'\n",
              "            + ' to learn more about interactive tables.';\n",
              "          element.innerHTML = '';\n",
              "          dataTable['output_type'] = 'display_data';\n",
              "          await google.colab.output.renderOutput(dataTable, element);\n",
              "          const docLink = document.createElement('div');\n",
              "          docLink.innerHTML = docLinkHtml;\n",
              "          element.appendChild(docLink);\n",
              "        }\n",
              "      </script>\n",
              "    </div>\n",
              "  </div>\n",
              "  "
            ]
          },
          "metadata": {},
          "execution_count": 20
        }
      ]
    },
    {
      "cell_type": "markdown",
      "source": [
        "Data Information"
      ],
      "metadata": {
        "id": "HScRW1qp2BrZ"
      }
    },
    {
      "cell_type": "code",
      "source": [
        "df.info()"
      ],
      "metadata": {
        "colab": {
          "base_uri": "https://localhost:8080/"
        },
        "id": "eNuwkhwf_9_y",
        "outputId": "b6f09f06-e052-4e42-806a-bcf562166f95"
      },
      "execution_count": null,
      "outputs": [
        {
          "output_type": "stream",
          "name": "stdout",
          "text": [
            "<class 'pandas.core.frame.DataFrame'>\n",
            "RangeIndex: 28847 entries, 0 to 28846\n",
            "Data columns (total 9 columns):\n",
            " #   Column              Non-Null Count  Dtype \n",
            "---  ------              --------------  ----- \n",
            " 0   candidateName       28843 non-null  object\n",
            " 1   companyName         28806 non-null  object\n",
            " 2   designation         24217 non-null  object\n",
            " 3   experienceMas       28847 non-null  object\n",
            " 4   locationCurrentMas  28847 non-null  object\n",
            " 5   qualificationMas    23971 non-null  object\n",
            " 6   qualificationMas2   15449 non-null  object\n",
            " 7   salary              28847 non-null  object\n",
            " 8   Category            28847 non-null  object\n",
            "dtypes: object(9)\n",
            "memory usage: 2.0+ MB\n"
          ]
        }
      ]
    },
    {
      "cell_type": "code",
      "source": [
        "df.describe()"
      ],
      "metadata": {
        "colab": {
          "base_uri": "https://localhost:8080/",
          "height": 175
        },
        "id": "0aLbX-uUAIIv",
        "outputId": "20ed6d23-114e-4535-eca4-fe158cb42796"
      },
      "execution_count": null,
      "outputs": [
        {
          "output_type": "execute_result",
          "data": {
            "text/plain": [
              "       candidateName            companyName           designation  \\\n",
              "count          28843                  28806                 24217   \n",
              "unique         27288                  15153                 12636   \n",
              "top              - -  Currently Unemployed   Currently Unemployed   \n",
              "freq              27                    804                   778   \n",
              "\n",
              "       experienceMas       locationCurrentMas          qualificationMas  \\\n",
              "count          28847                    28847                     23971   \n",
              "unique           492                        3                        51   \n",
              "top      10 Year(s)   Hyderabad/ Secunderabad  BE/ B.Tech (Engineering)   \n",
              "freq             966                    28841                      8922   \n",
              "\n",
              "       qualificationMas2        salary            Category  \n",
              "count              15449         28847               28847  \n",
              "unique                48          1560                   1  \n",
              "top            MBA/ PGDM  Rs. 6.0 lacs  HYDERABAD-SALARIED  \n",
              "freq                5448          1695               28847  "
            ],
            "text/html": [
              "\n",
              "  <div id=\"df-08ee9a50-fee4-4b8e-b225-b277620c6204\">\n",
              "    <div class=\"colab-df-container\">\n",
              "      <div>\n",
              "<style scoped>\n",
              "    .dataframe tbody tr th:only-of-type {\n",
              "        vertical-align: middle;\n",
              "    }\n",
              "\n",
              "    .dataframe tbody tr th {\n",
              "        vertical-align: top;\n",
              "    }\n",
              "\n",
              "    .dataframe thead th {\n",
              "        text-align: right;\n",
              "    }\n",
              "</style>\n",
              "<table border=\"1\" class=\"dataframe\">\n",
              "  <thead>\n",
              "    <tr style=\"text-align: right;\">\n",
              "      <th></th>\n",
              "      <th>candidateName</th>\n",
              "      <th>companyName</th>\n",
              "      <th>designation</th>\n",
              "      <th>experienceMas</th>\n",
              "      <th>locationCurrentMas</th>\n",
              "      <th>qualificationMas</th>\n",
              "      <th>qualificationMas2</th>\n",
              "      <th>salary</th>\n",
              "      <th>Category</th>\n",
              "    </tr>\n",
              "  </thead>\n",
              "  <tbody>\n",
              "    <tr>\n",
              "      <th>count</th>\n",
              "      <td>28843</td>\n",
              "      <td>28806</td>\n",
              "      <td>24217</td>\n",
              "      <td>28847</td>\n",
              "      <td>28847</td>\n",
              "      <td>23971</td>\n",
              "      <td>15449</td>\n",
              "      <td>28847</td>\n",
              "      <td>28847</td>\n",
              "    </tr>\n",
              "    <tr>\n",
              "      <th>unique</th>\n",
              "      <td>27288</td>\n",
              "      <td>15153</td>\n",
              "      <td>12636</td>\n",
              "      <td>492</td>\n",
              "      <td>3</td>\n",
              "      <td>51</td>\n",
              "      <td>48</td>\n",
              "      <td>1560</td>\n",
              "      <td>1</td>\n",
              "    </tr>\n",
              "    <tr>\n",
              "      <th>top</th>\n",
              "      <td>- -</td>\n",
              "      <td>Currently Unemployed</td>\n",
              "      <td>Currently Unemployed</td>\n",
              "      <td>10 Year(s)</td>\n",
              "      <td>Hyderabad/ Secunderabad</td>\n",
              "      <td>BE/ B.Tech (Engineering)</td>\n",
              "      <td>MBA/ PGDM</td>\n",
              "      <td>Rs. 6.0 lacs</td>\n",
              "      <td>HYDERABAD-SALARIED</td>\n",
              "    </tr>\n",
              "    <tr>\n",
              "      <th>freq</th>\n",
              "      <td>27</td>\n",
              "      <td>804</td>\n",
              "      <td>778</td>\n",
              "      <td>966</td>\n",
              "      <td>28841</td>\n",
              "      <td>8922</td>\n",
              "      <td>5448</td>\n",
              "      <td>1695</td>\n",
              "      <td>28847</td>\n",
              "    </tr>\n",
              "  </tbody>\n",
              "</table>\n",
              "</div>\n",
              "      <button class=\"colab-df-convert\" onclick=\"convertToInteractive('df-08ee9a50-fee4-4b8e-b225-b277620c6204')\"\n",
              "              title=\"Convert this dataframe to an interactive table.\"\n",
              "              style=\"display:none;\">\n",
              "        \n",
              "  <svg xmlns=\"http://www.w3.org/2000/svg\" height=\"24px\"viewBox=\"0 0 24 24\"\n",
              "       width=\"24px\">\n",
              "    <path d=\"M0 0h24v24H0V0z\" fill=\"none\"/>\n",
              "    <path d=\"M18.56 5.44l.94 2.06.94-2.06 2.06-.94-2.06-.94-.94-2.06-.94 2.06-2.06.94zm-11 1L8.5 8.5l.94-2.06 2.06-.94-2.06-.94L8.5 2.5l-.94 2.06-2.06.94zm10 10l.94 2.06.94-2.06 2.06-.94-2.06-.94-.94-2.06-.94 2.06-2.06.94z\"/><path d=\"M17.41 7.96l-1.37-1.37c-.4-.4-.92-.59-1.43-.59-.52 0-1.04.2-1.43.59L10.3 9.45l-7.72 7.72c-.78.78-.78 2.05 0 2.83L4 21.41c.39.39.9.59 1.41.59.51 0 1.02-.2 1.41-.59l7.78-7.78 2.81-2.81c.8-.78.8-2.07 0-2.86zM5.41 20L4 18.59l7.72-7.72 1.47 1.35L5.41 20z\"/>\n",
              "  </svg>\n",
              "      </button>\n",
              "      \n",
              "  <style>\n",
              "    .colab-df-container {\n",
              "      display:flex;\n",
              "      flex-wrap:wrap;\n",
              "      gap: 12px;\n",
              "    }\n",
              "\n",
              "    .colab-df-convert {\n",
              "      background-color: #E8F0FE;\n",
              "      border: none;\n",
              "      border-radius: 50%;\n",
              "      cursor: pointer;\n",
              "      display: none;\n",
              "      fill: #1967D2;\n",
              "      height: 32px;\n",
              "      padding: 0 0 0 0;\n",
              "      width: 32px;\n",
              "    }\n",
              "\n",
              "    .colab-df-convert:hover {\n",
              "      background-color: #E2EBFA;\n",
              "      box-shadow: 0px 1px 2px rgba(60, 64, 67, 0.3), 0px 1px 3px 1px rgba(60, 64, 67, 0.15);\n",
              "      fill: #174EA6;\n",
              "    }\n",
              "\n",
              "    [theme=dark] .colab-df-convert {\n",
              "      background-color: #3B4455;\n",
              "      fill: #D2E3FC;\n",
              "    }\n",
              "\n",
              "    [theme=dark] .colab-df-convert:hover {\n",
              "      background-color: #434B5C;\n",
              "      box-shadow: 0px 1px 3px 1px rgba(0, 0, 0, 0.15);\n",
              "      filter: drop-shadow(0px 1px 2px rgba(0, 0, 0, 0.3));\n",
              "      fill: #FFFFFF;\n",
              "    }\n",
              "  </style>\n",
              "\n",
              "      <script>\n",
              "        const buttonEl =\n",
              "          document.querySelector('#df-08ee9a50-fee4-4b8e-b225-b277620c6204 button.colab-df-convert');\n",
              "        buttonEl.style.display =\n",
              "          google.colab.kernel.accessAllowed ? 'block' : 'none';\n",
              "\n",
              "        async function convertToInteractive(key) {\n",
              "          const element = document.querySelector('#df-08ee9a50-fee4-4b8e-b225-b277620c6204');\n",
              "          const dataTable =\n",
              "            await google.colab.kernel.invokeFunction('convertToInteractive',\n",
              "                                                     [key], {});\n",
              "          if (!dataTable) return;\n",
              "\n",
              "          const docLinkHtml = 'Like what you see? Visit the ' +\n",
              "            '<a target=\"_blank\" href=https://colab.research.google.com/notebooks/data_table.ipynb>data table notebook</a>'\n",
              "            + ' to learn more about interactive tables.';\n",
              "          element.innerHTML = '';\n",
              "          dataTable['output_type'] = 'display_data';\n",
              "          await google.colab.output.renderOutput(dataTable, element);\n",
              "          const docLink = document.createElement('div');\n",
              "          docLink.innerHTML = docLinkHtml;\n",
              "          element.appendChild(docLink);\n",
              "        }\n",
              "      </script>\n",
              "    </div>\n",
              "  </div>\n",
              "  "
            ]
          },
          "metadata": {},
          "execution_count": 22
        }
      ]
    },
    {
      "cell_type": "markdown",
      "source": [
        "**Data Cleaning**\n",
        "Checking Missing Values in each Column"
      ],
      "metadata": {
        "id": "w3QdmUOR2HVJ"
      }
    },
    {
      "cell_type": "code",
      "source": [
        "df.isna().sum()"
      ],
      "metadata": {
        "colab": {
          "base_uri": "https://localhost:8080/"
        },
        "id": "w_82pPjfAMo9",
        "outputId": "9428d0cd-ddba-4248-d67e-c0f06bcb2b44"
      },
      "execution_count": null,
      "outputs": [
        {
          "output_type": "execute_result",
          "data": {
            "text/plain": [
              "candidateName             4\n",
              "companyName              41\n",
              "designation            4630\n",
              "experienceMas             0\n",
              "locationCurrentMas        0\n",
              "qualificationMas       4876\n",
              "qualificationMas2     13398\n",
              "salary                    0\n",
              "Category                  0\n",
              "dtype: int64"
            ]
          },
          "metadata": {},
          "execution_count": 23
        }
      ]
    },
    {
      "cell_type": "markdown",
      "source": [
        "Checking Unique Values in each Column"
      ],
      "metadata": {
        "id": "3-AyJ1IH2Ngw"
      }
    },
    {
      "cell_type": "code",
      "source": [
        "df.nunique()"
      ],
      "metadata": {
        "colab": {
          "base_uri": "https://localhost:8080/"
        },
        "id": "LKBLem_aAQH6",
        "outputId": "26345e3b-675e-4cf6-f529-62a5d41ce8f7"
      },
      "execution_count": null,
      "outputs": [
        {
          "output_type": "execute_result",
          "data": {
            "text/plain": [
              "candidateName         27288\n",
              "companyName           15153\n",
              "designation           12636\n",
              "experienceMas           492\n",
              "locationCurrentMas        3\n",
              "qualificationMas         51\n",
              "qualificationMas2        48\n",
              "salary                 1560\n",
              "Category                  1\n",
              "dtype: int64"
            ]
          },
          "metadata": {},
          "execution_count": 24
        }
      ]
    },
    {
      "cell_type": "markdown",
      "source": [
        "Checking Values in 'locationCurrentMas'"
      ],
      "metadata": {
        "id": "XoOzxNK72QJx"
      }
    },
    {
      "cell_type": "code",
      "source": [
        "df.locationCurrentMas.value_counts()"
      ],
      "metadata": {
        "colab": {
          "base_uri": "https://localhost:8080/"
        },
        "id": "7wlO5OMyATUU",
        "outputId": "92561cf3-41fe-4332-c201-217c753e072b"
      },
      "execution_count": null,
      "outputs": [
        {
          "output_type": "execute_result",
          "data": {
            "text/plain": [
              "Hyderabad/ Secunderabad    28841\n",
              "Hyderabad                      3\n",
              "Hyderabad                      3\n",
              "Name: locationCurrentMas, dtype: int64"
            ]
          },
          "metadata": {},
          "execution_count": 25
        }
      ]
    },
    {
      "cell_type": "markdown",
      "source": [
        "Visualizing Missing Pattern in Dataset"
      ],
      "metadata": {
        "id": "tHF-GTeq2VFS"
      }
    },
    {
      "cell_type": "code",
      "source": [
        "msno.matrix(df, figsize=(10,4), fontsize=10)"
      ],
      "metadata": {
        "colab": {
          "base_uri": "https://localhost:8080/",
          "height": 356
        },
        "id": "zwxD8M6rAWnj",
        "outputId": "a6acfa4e-4c70-4ebe-8c85-272c023a58e7"
      },
      "execution_count": null,
      "outputs": [
        {
          "output_type": "execute_result",
          "data": {
            "text/plain": [
              "<matplotlib.axes._subplots.AxesSubplot at 0x7f66fb3010d0>"
            ]
          },
          "metadata": {},
          "execution_count": 26
        },
        {
          "output_type": "display_data",
          "data": {
            "text/plain": [
              "<Figure size 720x288 with 2 Axes>"
            ],
            "image/png": "[encoded data removed]"
          },
          "metadata": {
            "needs_background": "light"
          }
        }
      ]
    },
    {
      "cell_type": "markdown",
      "source": [
        "Droping Rows from Some Columns containing NaN Values"
      ],
      "metadata": {
        "id": "SHZETT3E2YtM"
      }
    },
    {
      "cell_type": "code",
      "source": [
        "#Droping Rows from 'companyName' and 'designation' containing NaN values\n",
        "df.dropna(axis=0, inplace=True, subset=['companyName', 'designation','candidateName','Category','locationCurrentMas'])\n",
        "\n",
        "final = df.copy(deep=True) # Copying dataframe for final split in excel files"
      ],
      "metadata": {
        "id": "LAVHJqd-AbCc"
      },
      "execution_count": null,
      "outputs": []
    },
    {
      "cell_type": "code",
      "source": [
        "#Replacing \"NaN\" Values in 'qualificationMas' and 'qualificationMas2' with \"Missing\" (str)\n",
        "df['qualificationMas'].fillna(value='Missing', inplace=True)\n",
        "df['qualificationMas2'].fillna(value='Missing', inplace=True)\n",
        "msno.matrix(df, figsize=(10,4), fontsize=10)"
      ],
      "metadata": {
        "colab": {
          "base_uri": "https://localhost:8080/",
          "height": 356
        },
        "id": "SCqVtnS6Ae-T",
        "outputId": "dabd4276-eb82-4a71-d888-07f2fb21a216"
      },
      "execution_count": null,
      "outputs": [
        {
          "output_type": "execute_result",
          "data": {
            "text/plain": [
              "<matplotlib.axes._subplots.AxesSubplot at 0x7f66f9082a90>"
            ]
          },
          "metadata": {},
          "execution_count": 28
        },
        {
          "output_type": "display_data",
          "data": {
            "text/plain": [
              "<Figure size 720x288 with 2 Axes>"
            ],
            "image/png": "[encoded data removed]"
          },
          "metadata": {
            "needs_background": "light"
          }
        }
      ]
    },
    {
      "cell_type": "markdown",
      "source": [
        "Droping Irrelevant Columns"
      ],
      "metadata": {
        "id": "qZtwvKCO2cT4"
      }
    },
    {
      "cell_type": "code",
      "source": [
        "# Droping Unwanted/Notrelevent Columns from dataFrame\n",
        "df.drop(columns=['candidateName','Category','locationCurrentMas'], inplace=True)"
      ],
      "metadata": {
        "id": "DGQDPXwVAiiI"
      },
      "execution_count": null,
      "outputs": []
    },
    {
      "cell_type": "markdown",
      "source": [
        "Formatting Columns Data in Usable Form"
      ],
      "metadata": {
        "id": "4-AQ7OrW2e2F"
      }
    },
    {
      "cell_type": "code",
      "source": [
        "# Convert 'Rs. X Lakhs' [Object] in 'X'[float]\n",
        "df['salary'] = df['salary'].astype('str')\n",
        "df[df.columns[5]] = df[df.columns[5]].apply(lambda x: x.replace('Rs. ','')).apply(lambda x: x.replace(' lacs','')).astype(np.float64)\n",
        "\n",
        "# Convert 'A Year(s) B Month(s)' [object] in Month(s) [float]\n",
        "def process_exp(dataframe,colid):\n",
        "    df['experienceMas'] = df['experienceMas'].astype('str') # from object type to str type [to use split fuunction]\n",
        "    df['experienceMas'].replace('Fresher','0 Year(s) 0 Month(s)', inplace=True) #changing data in single format ['Fresher' = '0 Year(s) 0 Month(s)']\n",
        "    for rowid in range(dataframe.shape[0]):\n",
        "        element=dataframe.iloc[rowid,colid].split(' ') # Splitting str 'A Year(s) B Month(s)' from each row using space into ['A','Year(s)','B','Month(s)']\n",
        "        if len(element)==4:\n",
        "            year,month=(element[0],element[2]) # Getting A and B as no. of years and months\n",
        "        else:\n",
        "            year,month=(element[0],0) #if there is no month value then only take years\n",
        "        dataframe.iloc[rowid,colid]=(12*float(year))+float(month) # multiply years with 12 and add months [to get no. of months of experience]\n",
        "    dataframe.iloc[:,2]=pd.to_numeric(dataframe.experienceMas) # Convert str to float type\n",
        "    return dataframe\n",
        "\n",
        "df=process_exp(dataframe=df, colid=2)\n",
        "\n",
        "#LabelEncoding\n",
        "le = LabelEncoder()\n",
        "for col in df.select_dtypes(include=['object']).columns:\n",
        "    df[col] = le.fit_transform(df[col])\n",
        "df.head()"
      ],
      "metadata": {
        "colab": {
          "base_uri": "https://localhost:8080/",
          "height": 206
        },
        "id": "B8r7aKV8ApMw",
        "outputId": "1e7f642f-4e61-470d-8174-7ee247da7af6"
      },
      "execution_count": null,
      "outputs": [
        {
          "output_type": "execute_result",
          "data": {
            "text/plain": [
              "   companyName  designation  experienceMas  qualificationMas  \\\n",
              "0          777         9365           25.0                15   \n",
              "1          265         7708           69.0                38   \n",
              "2        12683        10809           52.0                 2   \n",
              "4         1928         1430           80.0                 2   \n",
              "5         7180        10090          242.0                45   \n",
              "\n",
              "   qualificationMas2  salary  \n",
              "0                 43    6.71  \n",
              "1                  4    5.00  \n",
              "2                 43   84.00  \n",
              "4                 33    8.05  \n",
              "5                 48   16.00  "
            ],
            "text/html": [
              "\n",
              "  <div id=\"df-a90467d5-7806-4b4e-85dc-c10573a09011\">\n",
              "    <div class=\"colab-df-container\">\n",
              "      <div>\n",
              "<style scoped>\n",
              "    .dataframe tbody tr th:only-of-type {\n",
              "        vertical-align: middle;\n",
              "    }\n",
              "\n",
              "    .dataframe tbody tr th {\n",
              "        vertical-align: top;\n",
              "    }\n",
              "\n",
              "    .dataframe thead th {\n",
              "        text-align: right;\n",
              "    }\n",
              "</style>\n",
              "<table border=\"1\" class=\"dataframe\">\n",
              "  <thead>\n",
              "    <tr style=\"text-align: right;\">\n",
              "      <th></th>\n",
              "      <th>companyName</th>\n",
              "      <th>designation</th>\n",
              "      <th>experienceMas</th>\n",
              "      <th>qualificationMas</th>\n",
              "      <th>qualificationMas2</th>\n",
              "      <th>salary</th>\n",
              "    </tr>\n",
              "  </thead>\n",
              "  <tbody>\n",
              "    <tr>\n",
              "      <th>0</th>\n",
              "      <td>777</td>\n",
              "      <td>9365</td>\n",
              "      <td>25.0</td>\n",
              "      <td>15</td>\n",
              "      <td>43</td>\n",
              "      <td>6.71</td>\n",
              "    </tr>\n",
              "    <tr>\n",
              "      <th>1</th>\n",
              "      <td>265</td>\n",
              "      <td>7708</td>\n",
              "      <td>69.0</td>\n",
              "      <td>38</td>\n",
              "      <td>4</td>\n",
              "      <td>5.00</td>\n",
              "    </tr>\n",
              "    <tr>\n",
              "      <th>2</th>\n",
              "      <td>12683</td>\n",
              "      <td>10809</td>\n",
              "      <td>52.0</td>\n",
              "      <td>2</td>\n",
              "      <td>43</td>\n",
              "      <td>84.00</td>\n",
              "    </tr>\n",
              "    <tr>\n",
              "      <th>4</th>\n",
              "      <td>1928</td>\n",
              "      <td>1430</td>\n",
              "      <td>80.0</td>\n",
              "      <td>2</td>\n",
              "      <td>33</td>\n",
              "      <td>8.05</td>\n",
              "    </tr>\n",
              "    <tr>\n",
              "      <th>5</th>\n",
              "      <td>7180</td>\n",
              "      <td>10090</td>\n",
              "      <td>242.0</td>\n",
              "      <td>45</td>\n",
              "      <td>48</td>\n",
              "      <td>16.00</td>\n",
              "    </tr>\n",
              "  </tbody>\n",
              "</table>\n",
              "</div>\n",
              "      <button class=\"colab-df-convert\" onclick=\"convertToInteractive('df-a90467d5-7806-4b4e-85dc-c10573a09011')\"\n",
              "              title=\"Convert this dataframe to an interactive table.\"\n",
              "              style=\"display:none;\">\n",
              "        \n",
              "  <svg xmlns=\"http://www.w3.org/2000/svg\" height=\"24px\"viewBox=\"0 0 24 24\"\n",
              "       width=\"24px\">\n",
              "    <path d=\"M0 0h24v24H0V0z\" fill=\"none\"/>\n",
              "    <path d=\"M18.56 5.44l.94 2.06.94-2.06 2.06-.94-2.06-.94-.94-2.06-.94 2.06-2.06.94zm-11 1L8.5 8.5l.94-2.06 2.06-.94-2.06-.94L8.5 2.5l-.94 2.06-2.06.94zm10 10l.94 2.06.94-2.06 2.06-.94-2.06-.94-.94-2.06-.94 2.06-2.06.94z\"/><path d=\"M17.41 7.96l-1.37-1.37c-.4-.4-.92-.59-1.43-.59-.52 0-1.04.2-1.43.59L10.3 9.45l-7.72 7.72c-.78.78-.78 2.05 0 2.83L4 21.41c.39.39.9.59 1.41.59.51 0 1.02-.2 1.41-.59l7.78-7.78 2.81-2.81c.8-.78.8-2.07 0-2.86zM5.41 20L4 18.59l7.72-7.72 1.47 1.35L5.41 20z\"/>\n",
              "  </svg>\n",
              "      </button>\n",
              "      \n",
              "  <style>\n",
              "    .colab-df-container {\n",
              "      display:flex;\n",
              "      flex-wrap:wrap;\n",
              "      gap: 12px;\n",
              "    }\n",
              "\n",
              "    .colab-df-convert {\n",
              "      background-color: #E8F0FE;\n",
              "      border: none;\n",
              "      border-radius: 50%;\n",
              "      cursor: pointer;\n",
              "      display: none;\n",
              "      fill: #1967D2;\n",
              "      height: 32px;\n",
              "      padding: 0 0 0 0;\n",
              "      width: 32px;\n",
              "    }\n",
              "\n",
              "    .colab-df-convert:hover {\n",
              "      background-color: #E2EBFA;\n",
              "      box-shadow: 0px 1px 2px rgba(60, 64, 67, 0.3), 0px 1px 3px 1px rgba(60, 64, 67, 0.15);\n",
              "      fill: #174EA6;\n",
              "    }\n",
              "\n",
              "    [theme=dark] .colab-df-convert {\n",
              "      background-color: #3B4455;\n",
              "      fill: #D2E3FC;\n",
              "    }\n",
              "\n",
              "    [theme=dark] .colab-df-convert:hover {\n",
              "      background-color: #434B5C;\n",
              "      box-shadow: 0px 1px 3px 1px rgba(0, 0, 0, 0.15);\n",
              "      filter: drop-shadow(0px 1px 2px rgba(0, 0, 0, 0.3));\n",
              "      fill: #FFFFFF;\n",
              "    }\n",
              "  </style>\n",
              "\n",
              "      <script>\n",
              "        const buttonEl =\n",
              "          document.querySelector('#df-a90467d5-7806-4b4e-85dc-c10573a09011 button.colab-df-convert');\n",
              "        buttonEl.style.display =\n",
              "          google.colab.kernel.accessAllowed ? 'block' : 'none';\n",
              "\n",
              "        async function convertToInteractive(key) {\n",
              "          const element = document.querySelector('#df-a90467d5-7806-4b4e-85dc-c10573a09011');\n",
              "          const dataTable =\n",
              "            await google.colab.kernel.invokeFunction('convertToInteractive',\n",
              "                                                     [key], {});\n",
              "          if (!dataTable) return;\n",
              "\n",
              "          const docLinkHtml = 'Like what you see? Visit the ' +\n",
              "            '<a target=\"_blank\" href=https://colab.research.google.com/notebooks/data_table.ipynb>data table notebook</a>'\n",
              "            + ' to learn more about interactive tables.';\n",
              "          element.innerHTML = '';\n",
              "          dataTable['output_type'] = 'display_data';\n",
              "          await google.colab.output.renderOutput(dataTable, element);\n",
              "          const docLink = document.createElement('div');\n",
              "          docLink.innerHTML = docLinkHtml;\n",
              "          element.appendChild(docLink);\n",
              "        }\n",
              "      </script>\n",
              "    </div>\n",
              "  </div>\n",
              "  "
            ]
          },
          "metadata": {},
          "execution_count": 30
        }
      ]
    },
    {
      "cell_type": "markdown",
      "source": [
        "**Data Transformation**\n",
        "Normalize Data to fit into Clustering Algorithmv"
      ],
      "metadata": {
        "id": "Jfki1RRx2ji1"
      }
    },
    {
      "cell_type": "code",
      "source": [
        "data = pd.DataFrame(normalize(df,axis=0), columns=df.columns)\n",
        "data.head()"
      ],
      "metadata": {
        "colab": {
          "base_uri": "https://localhost:8080/",
          "height": 206
        },
        "id": "YrkomUqPAwfO",
        "outputId": "24dae85f-6d25-4937-f575-a381d85d875c"
      },
      "execution_count": null,
      "outputs": [
        {
          "output_type": "execute_result",
          "data": {
            "text/plain": [
              "   companyName  designation  experienceMas  qualificationMas  \\\n",
              "0     0.000695     0.008324       0.001108          0.004041   \n",
              "1     0.000237     0.006851       0.003058          0.010237   \n",
              "2     0.011345     0.009607       0.002305          0.000539   \n",
              "3     0.001725     0.001271       0.003546          0.000539   \n",
              "4     0.006422     0.008968       0.010726          0.012123   \n",
              "\n",
              "   qualificationMas2    salary  \n",
              "0           0.007620  0.001818  \n",
              "1           0.000709  0.001355  \n",
              "2           0.007620  0.022758  \n",
              "3           0.005848  0.002181  \n",
              "4           0.008506  0.004335  "
            ],
            "text/html": [
              "\n",
              "  <div id=\"df-d714a41d-194d-487e-81f6-34ab4dd2a810\">\n",
              "    <div class=\"colab-df-container\">\n",
              "      <div>\n",
              "<style scoped>\n",
              "    .dataframe tbody tr th:only-of-type {\n",
              "        vertical-align: middle;\n",
              "    }\n",
              "\n",
              "    .dataframe tbody tr th {\n",
              "        vertical-align: top;\n",
              "    }\n",
              "\n",
              "    .dataframe thead th {\n",
              "        text-align: right;\n",
              "    }\n",
              "</style>\n",
              "<table border=\"1\" class=\"dataframe\">\n",
              "  <thead>\n",
              "    <tr style=\"text-align: right;\">\n",
              "      <th></th>\n",
              "      <th>companyName</th>\n",
              "      <th>designation</th>\n",
              "      <th>experienceMas</th>\n",
              "      <th>qualificationMas</th>\n",
              "      <th>qualificationMas2</th>\n",
              "      <th>salary</th>\n",
              "    </tr>\n",
              "  </thead>\n",
              "  <tbody>\n",
              "    <tr>\n",
              "      <th>0</th>\n",
              "      <td>0.000695</td>\n",
              "      <td>0.008324</td>\n",
              "      <td>0.001108</td>\n",
              "      <td>0.004041</td>\n",
              "      <td>0.007620</td>\n",
              "      <td>0.001818</td>\n",
              "    </tr>\n",
              "    <tr>\n",
              "      <th>1</th>\n",
              "      <td>0.000237</td>\n",
              "      <td>0.006851</td>\n",
              "      <td>0.003058</td>\n",
              "      <td>0.010237</td>\n",
              "      <td>0.000709</td>\n",
              "      <td>0.001355</td>\n",
              "    </tr>\n",
              "    <tr>\n",
              "      <th>2</th>\n",
              "      <td>0.011345</td>\n",
              "      <td>0.009607</td>\n",
              "      <td>0.002305</td>\n",
              "      <td>0.000539</td>\n",
              "      <td>0.007620</td>\n",
              "      <td>0.022758</td>\n",
              "    </tr>\n",
              "    <tr>\n",
              "      <th>3</th>\n",
              "      <td>0.001725</td>\n",
              "      <td>0.001271</td>\n",
              "      <td>0.003546</td>\n",
              "      <td>0.000539</td>\n",
              "      <td>0.005848</td>\n",
              "      <td>0.002181</td>\n",
              "    </tr>\n",
              "    <tr>\n",
              "      <th>4</th>\n",
              "      <td>0.006422</td>\n",
              "      <td>0.008968</td>\n",
              "      <td>0.010726</td>\n",
              "      <td>0.012123</td>\n",
              "      <td>0.008506</td>\n",
              "      <td>0.004335</td>\n",
              "    </tr>\n",
              "  </tbody>\n",
              "</table>\n",
              "</div>\n",
              "      <button class=\"colab-df-convert\" onclick=\"convertToInteractive('df-d714a41d-194d-487e-81f6-34ab4dd2a810')\"\n",
              "              title=\"Convert this dataframe to an interactive table.\"\n",
              "              style=\"display:none;\">\n",
              "        \n",
              "  <svg xmlns=\"http://www.w3.org/2000/svg\" height=\"24px\"viewBox=\"0 0 24 24\"\n",
              "       width=\"24px\">\n",
              "    <path d=\"M0 0h24v24H0V0z\" fill=\"none\"/>\n",
              "    <path d=\"M18.56 5.44l.94 2.06.94-2.06 2.06-.94-2.06-.94-.94-2.06-.94 2.06-2.06.94zm-11 1L8.5 8.5l.94-2.06 2.06-.94-2.06-.94L8.5 2.5l-.94 2.06-2.06.94zm10 10l.94 2.06.94-2.06 2.06-.94-2.06-.94-.94-2.06-.94 2.06-2.06.94z\"/><path d=\"M17.41 7.96l-1.37-1.37c-.4-.4-.92-.59-1.43-.59-.52 0-1.04.2-1.43.59L10.3 9.45l-7.72 7.72c-.78.78-.78 2.05 0 2.83L4 21.41c.39.39.9.59 1.41.59.51 0 1.02-.2 1.41-.59l7.78-7.78 2.81-2.81c.8-.78.8-2.07 0-2.86zM5.41 20L4 18.59l7.72-7.72 1.47 1.35L5.41 20z\"/>\n",
              "  </svg>\n",
              "      </button>\n",
              "      \n",
              "  <style>\n",
              "    .colab-df-container {\n",
              "      display:flex;\n",
              "      flex-wrap:wrap;\n",
              "      gap: 12px;\n",
              "    }\n",
              "\n",
              "    .colab-df-convert {\n",
              "      background-color: #E8F0FE;\n",
              "      border: none;\n",
              "      border-radius: 50%;\n",
              "      cursor: pointer;\n",
              "      display: none;\n",
              "      fill: #1967D2;\n",
              "      height: 32px;\n",
              "      padding: 0 0 0 0;\n",
              "      width: 32px;\n",
              "    }\n",
              "\n",
              "    .colab-df-convert:hover {\n",
              "      background-color: #E2EBFA;\n",
              "      box-shadow: 0px 1px 2px rgba(60, 64, 67, 0.3), 0px 1px 3px 1px rgba(60, 64, 67, 0.15);\n",
              "      fill: #174EA6;\n",
              "    }\n",
              "\n",
              "    [theme=dark] .colab-df-convert {\n",
              "      background-color: #3B4455;\n",
              "      fill: #D2E3FC;\n",
              "    }\n",
              "\n",
              "    [theme=dark] .colab-df-convert:hover {\n",
              "      background-color: #434B5C;\n",
              "      box-shadow: 0px 1px 3px 1px rgba(0, 0, 0, 0.15);\n",
              "      filter: drop-shadow(0px 1px 2px rgba(0, 0, 0, 0.3));\n",
              "      fill: #FFFFFF;\n",
              "    }\n",
              "  </style>\n",
              "\n",
              "      <script>\n",
              "        const buttonEl =\n",
              "          document.querySelector('#df-d714a41d-194d-487e-81f6-34ab4dd2a810 button.colab-df-convert');\n",
              "        buttonEl.style.display =\n",
              "          google.colab.kernel.accessAllowed ? 'block' : 'none';\n",
              "\n",
              "        async function convertToInteractive(key) {\n",
              "          const element = document.querySelector('#df-d714a41d-194d-487e-81f6-34ab4dd2a810');\n",
              "          const dataTable =\n",
              "            await google.colab.kernel.invokeFunction('convertToInteractive',\n",
              "                                                     [key], {});\n",
              "          if (!dataTable) return;\n",
              "\n",
              "          const docLinkHtml = 'Like what you see? Visit the ' +\n",
              "            '<a target=\"_blank\" href=https://colab.research.google.com/notebooks/data_table.ipynb>data table notebook</a>'\n",
              "            + ' to learn more about interactive tables.';\n",
              "          element.innerHTML = '';\n",
              "          dataTable['output_type'] = 'display_data';\n",
              "          await google.colab.output.renderOutput(dataTable, element);\n",
              "          const docLink = document.createElement('div');\n",
              "          docLink.innerHTML = docLinkHtml;\n",
              "          element.appendChild(docLink);\n",
              "        }\n",
              "      </script>\n",
              "    </div>\n",
              "  </div>\n",
              "  "
            ]
          },
          "metadata": {},
          "execution_count": 31
        }
      ]
    },
    {
      "cell_type": "markdown",
      "source": [
        "**Data Reduction**\n",
        "Checking Correlation Between Columns"
      ],
      "metadata": {
        "id": "TwwkZeZZ2sAg"
      }
    },
    {
      "cell_type": "code",
      "source": [
        "sns.heatmap(data.corr(), vmin=-1, vmax=1, annot=True)"
      ],
      "metadata": {
        "colab": {
          "base_uri": "https://localhost:8080/",
          "height": 365
        },
        "id": "za3TgykXA0KD",
        "outputId": "24d452c8-73dd-4fe7-cf4e-ede8341059f6"
      },
      "execution_count": null,
      "outputs": [
        {
          "output_type": "execute_result",
          "data": {
            "text/plain": [
              "<matplotlib.axes._subplots.AxesSubplot at 0x7f66f8b996d0>"
            ]
          },
          "metadata": {},
          "execution_count": 32
        },
        {
          "output_type": "display_data",
          "data": {
            "text/plain": [
              "<Figure size 432x288 with 2 Axes>"
            ],
            "image/png": "[encoded data removed]"
          },
          "metadata": {
            "needs_background": "light"
          }
        }
      ]
    },
    {
      "cell_type": "markdown",
      "source": [
        "Principal Component Analysis"
      ],
      "metadata": {
        "id": "1OTJk4ZO2xEO"
      }
    },
    {
      "cell_type": "code",
      "source": [
        "# define transform\n",
        "pca = PCA(n_components=2)\n",
        "# prepare transform on dataset\n",
        "pca.fit(data)\n",
        "# apply transform to dataset\n",
        "data = pca.transform(data)"
      ],
      "metadata": {
        "id": "vG0fdXPEA4FS"
      },
      "execution_count": null,
      "outputs": []
    },
    {
      "cell_type": "markdown",
      "source": [
        "**Find Optimal Value of K**\n",
        "Elbow Method"
      ],
      "metadata": {
        "id": "fpBEyNj720ru"
      }
    },
    {
      "cell_type": "code",
      "source": [
        "Sum_of_squared_distances = []\n",
        "K = range(2,9)\n",
        "for num_clusters in K :\n",
        "    kmeans = KMeans(n_clusters=num_clusters)\n",
        "    kmeans.fit(data)\n",
        "    Sum_of_squared_distances.append(kmeans.inertia_)\n",
        "\n",
        "plt.plot(K,Sum_of_squared_distances,'x-')\n",
        "plt.xlabel('Values of K')\n",
        "plt.ylabel('Sum of squared distances/Inertia')\n",
        "plt.title('Elbow Method For Optimal k')\n",
        "plt.show()"
      ],
      "metadata": {
        "colab": {
          "base_uri": "https://localhost:8080/",
          "height": 295
        },
        "id": "hjg9_qb_A_6N",
        "outputId": "f5151add-6e5b-4406-a848-049664110e4a"
      },
      "execution_count": null,
      "outputs": [
        {
          "output_type": "display_data",
          "data": {
            "text/plain": [
              "<Figure size 432x288 with 1 Axes>"
            ],
            "image/png": "[encoded data removed]"
          },
          "metadata": {
            "needs_background": "light"
          }
        }
      ]
    },
    {
      "cell_type": "markdown",
      "source": [
        "Statistical Metrics for achieving optimal 'k'\n",
        "Silhouette analysis"
      ],
      "metadata": {
        "id": "wd5jZOvI26dt"
      }
    },
    {
      "cell_type": "code",
      "source": [
        "range_n_clusters = [2, 3, 4, 5, 6, 7, 8]\n",
        "silhouette_avg = []\n",
        "for num_clusters in range_n_clusters:\n",
        "    # initialise kmeans\n",
        "    kmeans = KMeans(n_clusters=num_clusters)\n",
        "    kmeans.fit(data)\n",
        "    cluster_labels = kmeans.labels_\n",
        "    # silhouette score\n",
        "    silhouette_avg.append(silhouette_score(data, cluster_labels))\n",
        "\n",
        "plt.plot(range_n_clusters,silhouette_avg,'x-')\n",
        "plt.xlabel('Values of K')\n",
        "plt.ylabel('Silhouette score')\n",
        "plt.title('Silhouette analysis For Optimal k')\n",
        "plt.show()"
      ],
      "metadata": {
        "colab": {
          "base_uri": "https://localhost:8080/",
          "height": 295
        },
        "id": "l40Swu7DBINa",
        "outputId": "2b5e5d5a-130d-40e9-b0d7-180057ba6677"
      },
      "execution_count": null,
      "outputs": [
        {
          "output_type": "display_data",
          "data": {
            "text/plain": [
              "<Figure size 432x288 with 1 Axes>"
            ],
            "image/png": "[encoded data removed]"
          },
          "metadata": {
            "needs_background": "light"
          }
        }
      ]
    },
    {
      "cell_type": "markdown",
      "source": [
        "Calinski Harabasz Score"
      ],
      "metadata": {
        "id": "0tA8-FkG3Bot"
      }
    },
    {
      "cell_type": "code",
      "source": [
        "range_n_clusters = range(2,9)\n",
        "calinski_harabasz_avg = []\n",
        "for num_clusters in range_n_clusters:\n",
        "    # initialise kmeans\n",
        "    kmeans = KMeans(n_clusters=num_clusters)\n",
        "    kmeans.fit(data)\n",
        "    cluster_labels = kmeans.labels_\n",
        "    # silhouette score\n",
        "    calinski_harabasz_avg.append(calinski_harabasz_score(data, cluster_labels))\n",
        "\n",
        "plt.plot(range_n_clusters,calinski_harabasz_avg,'x-')\n",
        "plt.xlabel('Values of K')\n",
        "plt.ylabel('Silhouette score')\n",
        "plt.title('Silhouette analysis For Optimal k')\n",
        "plt.show()"
      ],
      "metadata": {
        "colab": {
          "base_uri": "https://localhost:8080/",
          "height": 295
        },
        "id": "CUdq4IcvBXAj",
        "outputId": "bdbaaa6e-a9d3-489a-f1f9-88602f078c90"
      },
      "execution_count": null,
      "outputs": [
        {
          "output_type": "display_data",
          "data": {
            "text/plain": [
              "<Figure size 432x288 with 1 Axes>"
            ],
            "image/png": "[encoded data removed]"
          },
          "metadata": {
            "needs_background": "light"
          }
        }
      ]
    },
    {
      "cell_type": "markdown",
      "source": [
        "Davies Bouldin Score"
      ],
      "metadata": {
        "id": "ZqWPJNKc3F6Z"
      }
    },
    {
      "cell_type": "code",
      "source": [
        "range_n_clusters = range(2,9)\n",
        "avies_bouldin_avg = []\n",
        "for num_clusters in range_n_clusters:\n",
        "    # initialise kmeans\n",
        "    kmeans = KMeans(n_clusters=num_clusters)\n",
        "    kmeans.fit(data)\n",
        "    cluster_labels = kmeans.labels_\n",
        "    # silhouette score\n",
        "    avies_bouldin_avg.append(davies_bouldin_score(data, cluster_labels))\n",
        "\n",
        "plt.plot(range_n_clusters,avies_bouldin_avg,'x-')\n",
        "plt.xlabel('Values of K')\n",
        "plt.ylabel('Silhouette score')\n",
        "plt.title('Silhouette analysis For Optimal k')\n",
        "plt.show()"
      ],
      "metadata": {
        "colab": {
          "base_uri": "https://localhost:8080/",
          "height": 295
        },
        "id": "xyqr1Nz3BhIh",
        "outputId": "f3b0972f-7a98-46f6-aa69-ce6f050d62be"
      },
      "execution_count": null,
      "outputs": [
        {
          "output_type": "display_data",
          "data": {
            "text/plain": [
              "<Figure size 432x288 with 1 Axes>"
            ],
            "image/png": "[encoded data removed]"
          },
          "metadata": {
            "needs_background": "light"
          }
        }
      ]
    },
    {
      "cell_type": "markdown",
      "source": [
        "**KMeans Clustering Algorithm**"
      ],
      "metadata": {
        "id": "XE4209u23KRc"
      }
    },
    {
      "cell_type": "code",
      "source": [
        "clusters=5 #from above analysis for optimal value of k\n",
        "kmeans = KMeans(n_clusters=clusters, init='k-means++')\n",
        "kmeans.fit(data)\n",
        "pred = kmeans.predict(data)\n",
        "data = pd.DataFrame(data, columns = ['pca_feature_1','pca_feature_2']) # features selected by using PCA\n",
        "data['cluster'] = pred\n",
        "\n",
        "# Plot Showing Clusters using features [2] selected from PCA\n",
        "plt.figure(figsize=(10,6))\n",
        "sns.scatterplot(data=data, x=data.pca_feature_1, y=data.pca_feature_2, hue='cluster', palette=sns.color_palette(\"hls\",clusters), legend=\"full\")\n",
        "plt.show()"
      ],
      "metadata": {
        "colab": {
          "base_uri": "https://localhost:8080/",
          "height": 389
        },
        "id": "NL3TzVgMBoXB",
        "outputId": "d074343b-2c15-4845-af4c-42ed63b2bc0d"
      },
      "execution_count": null,
      "outputs": [
        {
          "output_type": "display_data",
          "data": {
            "text/plain": [
              "<Figure size 720x432 with 1 Axes>"
            ],
            "image/png": "[encoded data removed]"
          },
          "metadata": {
            "needs_background": "light"
          }
        }
      ]
    },
    {
      "cell_type": "markdown",
      "source": [
        "**Final Data [Clusters Assigned]**"
      ],
      "metadata": {
        "id": "_Olth9W63M7R"
      }
    },
    {
      "cell_type": "code",
      "source": [
        "final['cluster'] = pred\n",
        "final = final.sort_values(by = 'cluster', ignore_index=True)\n",
        "final.head()"
      ],
      "metadata": {
        "colab": {
          "base_uri": "https://localhost:8080/",
          "height": 354
        },
        "id": "Xpg-jCwyBsn1",
        "outputId": "e7a65cbd-061e-4fee-b757-94844d7392e4"
      },
      "execution_count": null,
      "outputs": [
        {
          "output_type": "execute_result",
          "data": {
            "text/plain": [
              "               candidateName                               companyName  \\\n",
              "0            Ruchismita Dash                                   Amdocs    \n",
              "1               Yamini Patil                       Mascotspin Control    \n",
              "2                Vajra Mouli                      Kotak Mahindra Bank    \n",
              "3  Chandra Mohan Muttamsetty  Star Health And Allied Insurance Co Ltd    \n",
              "4             vasista rajesh                                Valuelabs    \n",
              "\n",
              "                                       designation         experienceMas  \\\n",
              "0                               Software Developer  2 Year(s) 1 Month(s)   \n",
              "1                                Technical Manager  6 Year(s) 9 Month(s)   \n",
              "2                                   Branch Manager           15 Year(s)    \n",
              "3  MANAGER HOSPITAL RELATIONS AND NETWORK PROVIDER  5 Year(s) 4 Month(s)   \n",
              "4                                Software Engineer            6 Year(s)    \n",
              "\n",
              "        locationCurrentMas          qualificationMas qualificationMas2  \\\n",
              "0  Hyderabad/ Secunderabad  BE/ B.Tech (Engineering)               NaN   \n",
              "1  Hyderabad/ Secunderabad           B.Sc. (Science)   M.Sc. (Science)   \n",
              "2  Hyderabad/ Secunderabad         B.Com. (Commerce)         MBA/ PGDM   \n",
              "3  Hyderabad/ Secunderabad      BDS (Dental Surgery)               NaN   \n",
              "4  Hyderabad/ Secunderabad  BE/ B.Tech (Engineering)               NaN   \n",
              "\n",
              "          salary            Category  cluster  \n",
              "0  Rs. 6.71 lacs  HYDERABAD-SALARIED        0  \n",
              "1   Rs. 7.0 lacs  HYDERABAD-SALARIED        0  \n",
              "2  Rs. 16.0 lacs  HYDERABAD-SALARIED        0  \n",
              "3   Rs. 6.0 lacs  HYDERABAD-SALARIED        0  \n",
              "4   Rs. 8.0 lacs  HYDERABAD-SALARIED        0  "
            ],
            "text/html": [
              "\n",
              "  <div id=\"df-fef2b9ef-158e-4fa8-b7ba-0a5203f91a41\">\n",
              "    <div class=\"colab-df-container\">\n",
              "      <div>\n",
              "<style scoped>\n",
              "    .dataframe tbody tr th:only-of-type {\n",
              "        vertical-align: middle;\n",
              "    }\n",
              "\n",
              "    .dataframe tbody tr th {\n",
              "        vertical-align: top;\n",
              "    }\n",
              "\n",
              "    .dataframe thead th {\n",
              "        text-align: right;\n",
              "    }\n",
              "</style>\n",
              "<table border=\"1\" class=\"dataframe\">\n",
              "  <thead>\n",
              "    <tr style=\"text-align: right;\">\n",
              "      <th></th>\n",
              "      <th>candidateName</th>\n",
              "      <th>companyName</th>\n",
              "      <th>designation</th>\n",
              "      <th>experienceMas</th>\n",
              "      <th>locationCurrentMas</th>\n",
              "      <th>qualificationMas</th>\n",
              "      <th>qualificationMas2</th>\n",
              "      <th>salary</th>\n",
              "      <th>Category</th>\n",
              "      <th>cluster</th>\n",
              "    </tr>\n",
              "  </thead>\n",
              "  <tbody>\n",
              "    <tr>\n",
              "      <th>0</th>\n",
              "      <td>Ruchismita Dash</td>\n",
              "      <td>Amdocs</td>\n",
              "      <td>Software Developer</td>\n",
              "      <td>2 Year(s) 1 Month(s)</td>\n",
              "      <td>Hyderabad/ Secunderabad</td>\n",
              "      <td>BE/ B.Tech (Engineering)</td>\n",
              "      <td>NaN</td>\n",
              "      <td>Rs. 6.71 lacs</td>\n",
              "      <td>HYDERABAD-SALARIED</td>\n",
              "      <td>0</td>\n",
              "    </tr>\n",
              "    <tr>\n",
              "      <th>1</th>\n",
              "      <td>Yamini Patil</td>\n",
              "      <td>Mascotspin Control</td>\n",
              "      <td>Technical Manager</td>\n",
              "      <td>6 Year(s) 9 Month(s)</td>\n",
              "      <td>Hyderabad/ Secunderabad</td>\n",
              "      <td>B.Sc. (Science)</td>\n",
              "      <td>M.Sc. (Science)</td>\n",
              "      <td>Rs. 7.0 lacs</td>\n",
              "      <td>HYDERABAD-SALARIED</td>\n",
              "      <td>0</td>\n",
              "    </tr>\n",
              "    <tr>\n",
              "      <th>2</th>\n",
              "      <td>Vajra Mouli</td>\n",
              "      <td>Kotak Mahindra Bank</td>\n",
              "      <td>Branch Manager</td>\n",
              "      <td>15 Year(s)</td>\n",
              "      <td>Hyderabad/ Secunderabad</td>\n",
              "      <td>B.Com. (Commerce)</td>\n",
              "      <td>MBA/ PGDM</td>\n",
              "      <td>Rs. 16.0 lacs</td>\n",
              "      <td>HYDERABAD-SALARIED</td>\n",
              "      <td>0</td>\n",
              "    </tr>\n",
              "    <tr>\n",
              "      <th>3</th>\n",
              "      <td>Chandra Mohan Muttamsetty</td>\n",
              "      <td>Star Health And Allied Insurance Co Ltd</td>\n",
              "      <td>MANAGER HOSPITAL RELATIONS AND NETWORK PROVIDER</td>\n",
              "      <td>5 Year(s) 4 Month(s)</td>\n",
              "      <td>Hyderabad/ Secunderabad</td>\n",
              "      <td>BDS (Dental Surgery)</td>\n",
              "      <td>NaN</td>\n",
              "      <td>Rs. 6.0 lacs</td>\n",
              "      <td>HYDERABAD-SALARIED</td>\n",
              "      <td>0</td>\n",
              "    </tr>\n",
              "    <tr>\n",
              "      <th>4</th>\n",
              "      <td>vasista rajesh</td>\n",
              "      <td>Valuelabs</td>\n",
              "      <td>Software Engineer</td>\n",
              "      <td>6 Year(s)</td>\n",
              "      <td>Hyderabad/ Secunderabad</td>\n",
              "      <td>BE/ B.Tech (Engineering)</td>\n",
              "      <td>NaN</td>\n",
              "      <td>Rs. 8.0 lacs</td>\n",
              "      <td>HYDERABAD-SALARIED</td>\n",
              "      <td>0</td>\n",
              "    </tr>\n",
              "  </tbody>\n",
              "</table>\n",
              "</div>\n",
              "      <button class=\"colab-df-convert\" onclick=\"convertToInteractive('df-fef2b9ef-158e-4fa8-b7ba-0a5203f91a41')\"\n",
              "              title=\"Convert this dataframe to an interactive table.\"\n",
              "              style=\"display:none;\">\n",
              "        \n",
              "  <svg xmlns=\"http://www.w3.org/2000/svg\" height=\"24px\"viewBox=\"0 0 24 24\"\n",
              "       width=\"24px\">\n",
              "    <path d=\"M0 0h24v24H0V0z\" fill=\"none\"/>\n",
              "    <path d=\"M18.56 5.44l.94 2.06.94-2.06 2.06-.94-2.06-.94-.94-2.06-.94 2.06-2.06.94zm-11 1L8.5 8.5l.94-2.06 2.06-.94-2.06-.94L8.5 2.5l-.94 2.06-2.06.94zm10 10l.94 2.06.94-2.06 2.06-.94-2.06-.94-.94-2.06-.94 2.06-2.06.94z\"/><path d=\"M17.41 7.96l-1.37-1.37c-.4-.4-.92-.59-1.43-.59-.52 0-1.04.2-1.43.59L10.3 9.45l-7.72 7.72c-.78.78-.78 2.05 0 2.83L4 21.41c.39.39.9.59 1.41.59.51 0 1.02-.2 1.41-.59l7.78-7.78 2.81-2.81c.8-.78.8-2.07 0-2.86zM5.41 20L4 18.59l7.72-7.72 1.47 1.35L5.41 20z\"/>\n",
              "  </svg>\n",
              "      </button>\n",
              "      \n",
              "  <style>\n",
              "    .colab-df-container {\n",
              "      display:flex;\n",
              "      flex-wrap:wrap;\n",
              "      gap: 12px;\n",
              "    }\n",
              "\n",
              "    .colab-df-convert {\n",
              "      background-color: #E8F0FE;\n",
              "      border: none;\n",
              "      border-radius: 50%;\n",
              "      cursor: pointer;\n",
              "      display: none;\n",
              "      fill: #1967D2;\n",
              "      height: 32px;\n",
              "      padding: 0 0 0 0;\n",
              "      width: 32px;\n",
              "    }\n",
              "\n",
              "    .colab-df-convert:hover {\n",
              "      background-color: #E2EBFA;\n",
              "      box-shadow: 0px 1px 2px rgba(60, 64, 67, 0.3), 0px 1px 3px 1px rgba(60, 64, 67, 0.15);\n",
              "      fill: #174EA6;\n",
              "    }\n",
              "\n",
              "    [theme=dark] .colab-df-convert {\n",
              "      background-color: #3B4455;\n",
              "      fill: #D2E3FC;\n",
              "    }\n",
              "\n",
              "    [theme=dark] .colab-df-convert:hover {\n",
              "      background-color: #434B5C;\n",
              "      box-shadow: 0px 1px 3px 1px rgba(0, 0, 0, 0.15);\n",
              "      filter: drop-shadow(0px 1px 2px rgba(0, 0, 0, 0.3));\n",
              "      fill: #FFFFFF;\n",
              "    }\n",
              "  </style>\n",
              "\n",
              "      <script>\n",
              "        const buttonEl =\n",
              "          document.querySelector('#df-fef2b9ef-158e-4fa8-b7ba-0a5203f91a41 button.colab-df-convert');\n",
              "        buttonEl.style.display =\n",
              "          google.colab.kernel.accessAllowed ? 'block' : 'none';\n",
              "\n",
              "        async function convertToInteractive(key) {\n",
              "          const element = document.querySelector('#df-fef2b9ef-158e-4fa8-b7ba-0a5203f91a41');\n",
              "          const dataTable =\n",
              "            await google.colab.kernel.invokeFunction('convertToInteractive',\n",
              "                                                     [key], {});\n",
              "          if (!dataTable) return;\n",
              "\n",
              "          const docLinkHtml = 'Like what you see? Visit the ' +\n",
              "            '<a target=\"_blank\" href=https://colab.research.google.com/notebooks/data_table.ipynb>data table notebook</a>'\n",
              "            + ' to learn more about interactive tables.';\n",
              "          element.innerHTML = '';\n",
              "          dataTable['output_type'] = 'display_data';\n",
              "          await google.colab.output.renderOutput(dataTable, element);\n",
              "          const docLink = document.createElement('div');\n",
              "          docLink.innerHTML = docLinkHtml;\n",
              "          element.appendChild(docLink);\n",
              "        }\n",
              "      </script>\n",
              "    </div>\n",
              "  </div>\n",
              "  "
            ]
          },
          "metadata": {},
          "execution_count": 39
        }
      ]
    }
  ]
}